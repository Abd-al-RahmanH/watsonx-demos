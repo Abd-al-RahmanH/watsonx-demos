{
 "cells": [
  {
   "cell_type": "code",
   "execution_count": 1,
   "metadata": {},
   "outputs": [],
   "source": [
    "from ibm_watsonx_ai.foundation_models import Model\n",
    "from ibm_watsonx_ai.metanames import GenTextParamsMetaNames as GenParams\n",
    "\n",
    "import os\n",
    "from dotenv import load_dotenv\n",
    "\n",
    "load_dotenv()\n",
    "\n",
    "api_key = os.getenv(\"API_KEY\", None)\n",
    "project_id = os.getenv(\"PROJECT_ID\", None)\n",
    "\n",
    "creds = {\n",
    "    \"url\"    : \"https://us-south.ml.cloud.ibm.com\",\n",
    "    \"apikey\" : api_key\n",
    "}\n",
    "\n",
    "params = {\n",
    "    GenParams.DECODING_METHOD:\"greedy\",\n",
    "    GenParams.MAX_NEW_TOKENS:500,\n",
    "    GenParams.MIN_NEW_TOKENS:1,\n",
    "    GenParams.TOP_K:50,\n",
    "    GenParams.TOP_P:1,\n",
    "    # GenParams.STOP_SEQUENCES:[\"<eof>\"],\n",
    "}\n",
    "\n",
    "llm = Model(\"meta-llama/llama-2-70b-chat\",creds, params,project_id)"
   ]
  },
  {
   "cell_type": "code",
   "execution_count": 2,
   "metadata": {},
   "outputs": [],
   "source": [
    "import nest_asyncio\n",
    "\n",
    "nest_asyncio.apply()\n",
    "\n",
    "# from llama_index import (\n",
    "#     SimpleDirectoryReader,\n",
    "#     VectorStoreIndex,\n",
    "#     ServiceContext\n",
    "# )\n",
    "\n",
    "import llama_index\n",
    "from langchain.embeddings import HuggingFaceEmbeddings\n",
    "# from llama_index.evaluation import DatasetGenerator"
   ]
  },
  {
   "cell_type": "code",
   "execution_count": 3,
   "metadata": {},
   "outputs": [
    {
     "name": "stderr",
     "output_type": "stream",
     "text": [
      "/Library/Frameworks/Python.framework/Versions/3.12/lib/python3.12/site-packages/tqdm/auto.py:21: TqdmWarning: IProgress not found. Please update jupyter and ipywidgets. See https://ipywidgets.readthedocs.io/en/stable/user_install.html\n",
      "  from .autonotebook import tqdm as notebook_tqdm\n"
     ]
    }
   ],
   "source": [
    "from ibm_watson_machine_learning.foundation_models.extensions.langchain import WatsonxLLM\n",
    "# from langchain.embeddings import HuggingFaceEmbeddings\n",
    "# from langchain.embeddings.huggingface import HuggingFaceEmbeddings\n",
    "from llama_index.llms.langchain import LangChainLLM\n",
    "from llama_index.embeddings.huggingface import HuggingFaceEmbedding\n",
    "\n",
    "embedding_llm = HuggingFaceEmbedding(model_name='sentence-transformers/all-MiniLM-L6-v2')\n",
    "\n",
    "# embeddings = LangchainEmbedding(\n",
    "#     HuggingFaceEmbeddings(model_name=\"paraphrase-multilingual-MiniLM-L12-v2\")\n",
    "#     )\n",
    "model = WatsonxLLM(model=llm)\n",
    "\n",
    "\n",
    "llm = LangChainLLM(llm=model)"
   ]
  },
  {
   "cell_type": "code",
   "execution_count": 4,
   "metadata": {},
   "outputs": [],
   "source": [
    "from langchain.document_loaders import PyPDFLoader\n",
    "from langchain.text_splitter import RecursiveCharacterTextSplitter\n",
    "\n",
    "chunk_size=1500\n",
    "chunk_overlap = 200\n",
    "\n",
    "loader = PyPDFLoader('Maintenance-Manual.pdf')\n",
    "data = loader.load()\n",
    "text_splitter = RecursiveCharacterTextSplitter(chunk_size= chunk_size, chunk_overlap=chunk_overlap)\n",
    "docs = text_splitter.split_documents(data)"
   ]
  },
  {
   "cell_type": "code",
   "execution_count": 5,
   "metadata": {},
   "outputs": [
    {
     "name": "stdout",
     "output_type": "stream",
     "text": [
      "Apple PROPN nsubj\n",
      "is AUX aux\n",
      "looking VERB ROOT\n",
      "at ADP prep\n",
      "buying VERB pcomp\n",
      "U.K. PROPN dobj\n",
      "startup NOUN dep\n",
      "for ADP prep\n",
      "$ SYM quantmod\n",
      "1 NUM compound\n",
      "billion NUM pobj\n"
     ]
    }
   ],
   "source": [
    "import spacy\n",
    "\n",
    "nlp = spacy.load(\"en_core_web_sm\")\n",
    "doc = nlp(\"Apple is looking at buying U.K. startup for $1 billion\")\n",
    "for token in doc:\n",
    "    print(token.text, token.pos_, token.dep_)"
   ]
  },
  {
   "cell_type": "code",
   "execution_count": 19,
   "metadata": {},
   "outputs": [
    {
     "name": "stdout",
     "output_type": "stream",
     "text": [
      "Please generate 3 questions based on the provided context information.\n",
      "\n",
      "(Note: The answer should be based on the context information provided)\n"
     ]
    }
   ],
   "source": [
    "from llama_index.core import Document\n",
    "from llama_index.core import Settings\n",
    "from llama_index.core import VectorStoreIndex\n",
    "from llama_index.core.llama_dataset.generator import RagDatasetGenerator\n",
    "from llama_index.llms.langchain import LangChainLLM\n",
    "\n",
    "eval_docs = [Document(text=docs[0].page_content)]\n",
    "\n",
    "Settings.llm = llm\n",
    "Settings.chunk_size = chunk_size\n",
    "Settings.embed_model = embedding_llm\n",
    "\n",
    "data_generator = RagDatasetGenerator.from_documents(eval_docs)\n",
    "eval_questions = data_generator.generate_questions_from_nodes()\n",
    "\n",
    "llm = LangChainLLM(llm=model)\n",
    "vector_index = VectorStoreIndex.from_documents(eval_docs)\n",
    "\n",
    "query_engine = vector_index.as_query_engine()\n",
    "\n",
    "for question in eval_questions.examples:\n",
    "    print(question.query)\n",
    "    response = query_engine.query(question.query)\n",
    "    response = query_engine.query(\"show the welcome statement\")\n",
    "    print(response)"
   ]
  }
 ],
 "metadata": {
  "kernelspec": {
   "display_name": "Python 3",
   "language": "python",
   "name": "python3"
  },
  "language_info": {
   "codemirror_mode": {
    "name": "ipython",
    "version": 3
   },
   "file_extension": ".py",
   "mimetype": "text/x-python",
   "name": "python",
   "nbconvert_exporter": "python",
   "pygments_lexer": "ipython3",
   "version": "3.12.2"
  }
 },
 "nbformat": 4,
 "nbformat_minor": 2
}
