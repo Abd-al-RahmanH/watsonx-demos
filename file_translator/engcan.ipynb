{
 "cells": [
  {
   "cell_type": "code",
   "execution_count": 4,
   "metadata": {},
   "outputs": [],
   "source": [
    "import pandas as pd"
   ]
  },
  {
   "cell_type": "code",
   "execution_count": 19,
   "metadata": {},
   "outputs": [
    {
     "name": "stdout",
     "output_type": "stream",
     "text": [
      "/Users/yingkitw/Desktop/watsonx-demo/rag_with_table/bosch\n"
     ]
    }
   ],
   "source": [
    "!pwd"
   ]
  },
  {
   "cell_type": "code",
   "execution_count": 2,
   "metadata": {},
   "outputs": [
    {
     "name": "stdout",
     "output_type": "stream",
     "text": [
      "41859\n",
      "['audio-visual cable\\n', 'DT lesson\\n', 'DT room\\n', 'clothes for office ladies\\n', 'overtime compensation\\n', 'probationary driving licence owner\\n', 'X-ray film\\n', 'to interview somebody/candidates\\n', 'a person\\n', 'a dose of medicine\\n']\n",
      "41859\n",
      "['AV線\\n', 'DT堂\\n', 'DT室\\n', 'OL衫\\n', 'OT錢\\n', 'P牌仔\\n', 'X光片\\n', 'in人\\n', '一個人\\n', '一劑藥\\n']\n"
     ]
    }
   ],
   "source": [
    "file_en = open('/Users/yingkitw/Desktop/engcan/wordshk-parallel-corpus/all/en.txt')\n",
    "en_list = file_en.readlines()\n",
    "print(len(en_list))\n",
    "print(en_list[:10])\n",
    "file_can = open('/Users/yingkitw/Desktop/engcan/wordshk-parallel-corpus/all/yue.txt')\n",
    "can_list = file_can.readlines()\n",
    "print(len(can_list))\n",
    "print(can_list[:10])"
   ]
  },
  {
   "cell_type": "code",
   "execution_count": 5,
   "metadata": {},
   "outputs": [
    {
     "name": "stdout",
     "output_type": "stream",
     "text": [
      "                          input output\n",
      "0            audio-visual cable    AV線\n",
      "1                     DT lesson    DT堂\n",
      "2                       DT room    DT室\n",
      "3     clothes for office ladies    OL衫\n",
      "4         overtime compensation    OT錢\n",
      "..                          ...    ...\n",
      "995              reception room    會客室\n",
      "996  posts on a recurring topic    月經文\n",
      "997  to be dated by a young man    有仔約\n",
      "998                   confident    有信心\n",
      "999  to have a deep personality    有內涵\n",
      "\n",
      "[1000 rows x 2 columns]\n"
     ]
    }
   ],
   "source": [
    "pair = list(zip(en_list[:1000], can_list[:1000]))\n",
    "df = pd.DataFrame(pair,\n",
    "                  columns=['input', 'output'])\n",
    "df['input'] = df['input'].str.replace('\\n', '')\n",
    "df['output'] = df['output'].str.replace('\\n', '')\n",
    "print(df)"
   ]
  },
  {
   "cell_type": "code",
   "execution_count": 6,
   "metadata": {},
   "outputs": [
    {
     "name": "stdout",
     "output_type": "stream",
     "text": [
      "    input                      output\n",
      "0     AV線          audio-visual cable\n",
      "1     DT堂                   DT lesson\n",
      "2     DT室                     DT room\n",
      "3     OL衫   clothes for office ladies\n",
      "4     OT錢       overtime compensation\n",
      "..    ...                         ...\n",
      "995   會客室              reception room\n",
      "996   月經文  posts on a recurring topic\n",
      "997   有仔約  to be dated by a young man\n",
      "998   有信心                   confident\n",
      "999   有內涵  to have a deep personality\n",
      "\n",
      "[1000 rows x 2 columns]\n"
     ]
    }
   ],
   "source": [
    "pair2 = list(zip(can_list[:1000], en_list[:1000]))\n",
    "df2 = pd.DataFrame(pair2,\n",
    "                  columns=['input', 'output'])\n",
    "df2['input'] = df2['input'].str.replace('\\n', '')\n",
    "df2['output'] = df2['output'].str.replace('\\n', '')\n",
    "print(df2)"
   ]
  },
  {
   "cell_type": "code",
   "execution_count": 7,
   "metadata": {},
   "outputs": [
    {
     "name": "stdout",
     "output_type": "stream",
     "text": [
      "None\n",
      "None\n"
     ]
    }
   ],
   "source": [
    "jsonfile = df.to_json('engcan1000.json',orient='records',force_ascii=False)\n",
    "print(jsonfile)\n",
    "\n",
    "jsonfile2 = df2.to_json('caneng1000.json',orient='records',force_ascii=False)\n",
    "print(jsonfile2)"
   ]
  }
 ],
 "metadata": {
  "kernelspec": {
   "display_name": "Python 3",
   "language": "python",
   "name": "python3"
  },
  "language_info": {
   "codemirror_mode": {
    "name": "ipython",
    "version": 3
   },
   "file_extension": ".py",
   "mimetype": "text/x-python",
   "name": "python",
   "nbconvert_exporter": "python",
   "pygments_lexer": "ipython3",
   "version": "3.11.4"
  }
 },
 "nbformat": 4,
 "nbformat_minor": 2
}
