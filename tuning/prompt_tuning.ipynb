{
 "cells": [
  {
   "cell_type": "code",
   "execution_count": 21,
   "metadata": {},
   "outputs": [],
   "source": [
    "import os\n",
    "from dotenv import load_dotenv\n",
    "\n",
    "from ibm_watson_machine_learning.foundation_models.utils.enums import ModelTypes\n",
    "from ibm_watson_machine_learning.foundation_models import Model\n",
    "from ibm_watson_machine_learning.metanames import GenTextParamsMetaNames as GenParams\n",
    "from ibm_watson_machine_learning.foundation_models.extensions.langchain import WatsonxLLM\n",
    "from ibm_watson_machine_learning.experiment import TuneExperiment\n",
    "from ibm_watson_machine_learning import APIClient"
   ]
  },
  {
   "cell_type": "code",
   "execution_count": 22,
   "metadata": {},
   "outputs": [],
   "source": [
    "load_dotenv()\n",
    "api_key = os.getenv(\"API_KEY\", None)\n",
    "project_id = os.getenv(\"PROJECT_ID\", None)\n",
    "\n",
    "creds = {\n",
    "    \"url\"    : \"https://us-south.ml.cloud.ibm.com\",\n",
    "    \"apikey\" : api_key\n",
    "}\n",
    "\n",
    "client = APIClient(creds)\n",
    "\n",
    "experiment = TuneExperiment(creds,\n",
    "    project_id=project_id\n",
    ")\n",
    "\n",
    "prompt_tuner = experiment.prompt_tuner(\n",
    "    name=\"prompt tuning name\",\n",
    "    task_id=experiment.Tasks.CLASSIFICATION,\n",
    "    base_model=ModelTypes.FLAN_T5_XL,\n",
    "    accumulate_steps=32,\n",
    "    batch_size=16,\n",
    "    learning_rate=0.2,\n",
    "    max_input_tokens=256,\n",
    "    max_output_tokens=2,\n",
    "    num_epochs=6,\n",
    "    tuning_type=experiment.PromptTuningTypes.PT,\n",
    "    verbalizer=\"Extract the satisfaction from the comment. Return simple '1' for satisfied customer or '0' for unsatisfied. Input: {{input}} Output: \",\n",
    "    auto_update_model=True\n",
    ")\n"
   ]
  },
  {
   "cell_type": "code",
   "execution_count": 23,
   "metadata": {},
   "outputs": [
    {
     "name": "stdout",
     "output_type": "stream",
     "text": [
      "{'base_model': {'model_id': 'google/flan-t5-xl'}, 'accumulate_steps': 32, 'batch_size': 16, 'learning_rate': 0.2, 'max_input_tokens': 256, 'max_output_tokens': 2, 'num_epochs': 6, 'task_id': 'classification', 'tuning_type': 'prompt_tuning', 'verbalizer': \"Extract the satisfaction from the comment. Return simple '1' for satisfied customer or '0' for unsatisfied. Input: {{input}} Output: \", 'name': 'prompt tuning name', 'description': 'Prompt tuning with SDK', 'auto_update_model': True, 'group_by_name': False}\n"
     ]
    }
   ],
   "source": [
    "config_parameters = prompt_tuner.get_params()\n",
    "print(config_parameters)"
   ]
  },
  {
   "cell_type": "code",
   "execution_count": 24,
   "metadata": {},
   "outputs": [
    {
     "name": "stdout",
     "output_type": "stream",
     "text": [
      "Creating data asset...\n",
      "SUCCESS\n"
     ]
    }
   ],
   "source": [
    "client.set.default_project(project_id)\n",
    "asset_details = client.data_assets.create(name=\"caneng1000.json\", file_path=\"caneng1000.json\")"
   ]
  },
  {
   "cell_type": "code",
   "execution_count": 25,
   "metadata": {},
   "outputs": [
    {
     "name": "stdout",
     "output_type": "stream",
     "text": [
      "1f36411e-bfaa-4dc8-acf8-28eba9630d1c\n"
     ]
    }
   ],
   "source": [
    "print(asset_details['metadata']['guid'])"
   ]
  },
  {
   "cell_type": "code",
   "execution_count": 26,
   "metadata": {},
   "outputs": [
    {
     "name": "stderr",
     "output_type": "stream",
     "text": [
      "Failure during training. (POST https://us-south.ml.cloud.ibm.com/ml/v4/trainings?version=2023-12-05)\n",
      "Status code: 400, body: {\"trace\":\"a9e7dc784848fbedcf576d66ba76fdd7\",\"errors\":[{\"code\":\"pt_unavailable_for_plan\",\"message\":\"To use Tuning Studio, upgrade your Watson Machine Learning service plan 'Lite' to a paid plan.\",\"more_info\":\"https://cloud.ibm.com/apidocs/machine-learning\"}],\"status_code\":\"400\"}\n"
     ]
    },
    {
     "ename": "ApiRequestFailure",
     "evalue": "Failure during training. (POST https://us-south.ml.cloud.ibm.com/ml/v4/trainings?version=2023-12-05)\nStatus code: 400, body: {\"trace\":\"a9e7dc784848fbedcf576d66ba76fdd7\",\"errors\":[{\"code\":\"pt_unavailable_for_plan\",\"message\":\"To use Tuning Studio, upgrade your Watson Machine Learning service plan 'Lite' to a paid plan.\",\"more_info\":\"https://cloud.ibm.com/apidocs/machine-learning\"}],\"status_code\":\"400\"}",
     "output_type": "error",
     "traceback": [
      "\u001b[0;31m---------------------------------------------------------------------------\u001b[0m",
      "\u001b[0;31mApiRequestFailure\u001b[0m                         Traceback (most recent call last)",
      "Cell \u001b[0;32mIn[26], line 3\u001b[0m\n\u001b[1;32m      1\u001b[0m \u001b[38;5;28;01mfrom\u001b[39;00m \u001b[38;5;21;01mibm_watson_machine_learning\u001b[39;00m\u001b[38;5;21;01m.\u001b[39;00m\u001b[38;5;21;01mhelpers\u001b[39;00m \u001b[38;5;28;01mimport\u001b[39;00m DataConnection, ContainerLocation\n\u001b[0;32m----> 3\u001b[0m tuning_details \u001b[38;5;241m=\u001b[39m \u001b[43mprompt_tuner\u001b[49m\u001b[38;5;241;43m.\u001b[39;49m\u001b[43mrun\u001b[49m\u001b[43m(\u001b[49m\n\u001b[1;32m      4\u001b[0m \u001b[43m    \u001b[49m\u001b[43mtraining_data_references\u001b[49m\u001b[38;5;241;43m=\u001b[39;49m\u001b[43m[\u001b[49m\u001b[43mDataConnection\u001b[49m\u001b[43m(\u001b[49m\n\u001b[1;32m      5\u001b[0m \u001b[43m        \u001b[49m\u001b[43mdata_asset_id\u001b[49m\u001b[38;5;241;43m=\u001b[39;49m\u001b[43masset_details\u001b[49m\u001b[43m[\u001b[49m\u001b[38;5;124;43m'\u001b[39;49m\u001b[38;5;124;43mmetadata\u001b[39;49m\u001b[38;5;124;43m'\u001b[39;49m\u001b[43m]\u001b[49m\u001b[43m[\u001b[49m\u001b[38;5;124;43m'\u001b[39;49m\u001b[38;5;124;43mguid\u001b[39;49m\u001b[38;5;124;43m'\u001b[39;49m\u001b[43m]\u001b[49m\u001b[43m)\u001b[49m\n\u001b[1;32m      6\u001b[0m \u001b[43m    \u001b[49m\u001b[43m]\u001b[49m\u001b[43m,\u001b[49m\n\u001b[1;32m      7\u001b[0m \u001b[43m    \u001b[49m\u001b[43mbackground_mode\u001b[49m\u001b[38;5;241;43m=\u001b[39;49m\u001b[38;5;28;43;01mTrue\u001b[39;49;00m\u001b[43m)\u001b[49m\n\u001b[1;32m      9\u001b[0m \u001b[38;5;66;03m# OR\u001b[39;00m\n\u001b[1;32m     11\u001b[0m tuning_details \u001b[38;5;241m=\u001b[39m prompt_tuner\u001b[38;5;241m.\u001b[39mrun(\n\u001b[1;32m     12\u001b[0m     training_data_references\u001b[38;5;241m=\u001b[39m[DataConnection(\n\u001b[1;32m     13\u001b[0m         location\u001b[38;5;241m=\u001b[39mContainerLocation(\u001b[38;5;124m\"\u001b[39m\u001b[38;5;124mcaneng1000.json\u001b[39m\u001b[38;5;124m\"\u001b[39m))\n\u001b[1;32m     14\u001b[0m     ],\n\u001b[1;32m     15\u001b[0m     background_mode\u001b[38;5;241m=\u001b[39m\u001b[38;5;28;01mTrue\u001b[39;00m)\n",
      "File \u001b[0;32m/Library/Frameworks/Python.framework/Versions/3.11/lib/python3.11/site-packages/ibm_watson_machine_learning/foundation_models/prompt_tuner.py:133\u001b[0m, in \u001b[0;36mPromptTuner.run\u001b[0;34m(self, training_data_references, training_results_reference, background_mode)\u001b[0m\n\u001b[1;32m    127\u001b[0m training_results_reference \u001b[38;5;241m=\u001b[39m \u001b[38;5;28mself\u001b[39m\u001b[38;5;241m.\u001b[39m_determine_result_reference(results_reference\u001b[38;5;241m=\u001b[39mtraining_results_reference,\n\u001b[1;32m    128\u001b[0m                                                               data_references\u001b[38;5;241m=\u001b[39mtraining_data_references)\n\u001b[1;32m    130\u001b[0m \u001b[38;5;28mself\u001b[39m\u001b[38;5;241m.\u001b[39m_initialize_training_metadata(training_data_references, test_data_references\u001b[38;5;241m=\u001b[39m\u001b[38;5;28;01mNone\u001b[39;00m,\n\u001b[1;32m    131\u001b[0m                                        training_results_reference\u001b[38;5;241m=\u001b[39mtraining_results_reference)\n\u001b[0;32m--> 133\u001b[0m tuning_details \u001b[38;5;241m=\u001b[39m \u001b[38;5;28;43mself\u001b[39;49m\u001b[38;5;241;43m.\u001b[39;49m\u001b[43m_client\u001b[49m\u001b[38;5;241;43m.\u001b[39;49m\u001b[43mtraining\u001b[49m\u001b[38;5;241;43m.\u001b[39;49m\u001b[43mrun\u001b[49m\u001b[43m(\u001b[49m\u001b[43mmeta_props\u001b[49m\u001b[38;5;241;43m=\u001b[39;49m\u001b[38;5;28;43mself\u001b[39;49m\u001b[38;5;241;43m.\u001b[39;49m\u001b[43m_training_metadata\u001b[49m\u001b[43m,\u001b[49m\u001b[43m \u001b[49m\u001b[43masynchronous\u001b[49m\u001b[38;5;241;43m=\u001b[39;49m\u001b[43mbackground_mode\u001b[49m\u001b[43m)\u001b[49m\n\u001b[1;32m    134\u001b[0m \u001b[38;5;28mself\u001b[39m\u001b[38;5;241m.\u001b[39mid \u001b[38;5;241m=\u001b[39m \u001b[38;5;28mself\u001b[39m\u001b[38;5;241m.\u001b[39m_client\u001b[38;5;241m.\u001b[39mtraining\u001b[38;5;241m.\u001b[39mget_id(tuning_details)\n\u001b[1;32m    136\u001b[0m \u001b[38;5;28;01mreturn\u001b[39;00m \u001b[38;5;28mself\u001b[39m\u001b[38;5;241m.\u001b[39m_client\u001b[38;5;241m.\u001b[39mtraining\u001b[38;5;241m.\u001b[39mget_details(\u001b[38;5;28mself\u001b[39m\u001b[38;5;241m.\u001b[39mid)\n",
      "File \u001b[0;32m/Library/Frameworks/Python.framework/Versions/3.11/lib/python3.11/site-packages/ibm_watson_machine_learning/training.py:512\u001b[0m, in \u001b[0;36mTraining.run\u001b[0;34m(self, meta_props, asynchronous)\u001b[0m\n\u001b[1;32m    508\u001b[0m     \u001b[38;5;28;01melse\u001b[39;00m:\n\u001b[1;32m    509\u001b[0m         response_train_post \u001b[38;5;241m=\u001b[39m requests\u001b[38;5;241m.\u001b[39mpost(train_endpoint, json\u001b[38;5;241m=\u001b[39mtraining_configuration_metadata,\n\u001b[1;32m    510\u001b[0m                                             headers\u001b[38;5;241m=\u001b[39m\u001b[38;5;28mself\u001b[39m\u001b[38;5;241m.\u001b[39m_client\u001b[38;5;241m.\u001b[39m_get_headers())\n\u001b[0;32m--> 512\u001b[0m run_details \u001b[38;5;241m=\u001b[39m \u001b[38;5;28;43mself\u001b[39;49m\u001b[38;5;241;43m.\u001b[39;49m\u001b[43m_handle_response\u001b[49m\u001b[43m(\u001b[49m\u001b[38;5;241;43m201\u001b[39;49m\u001b[43m,\u001b[49m\u001b[43m \u001b[49m\u001b[38;5;124;43mu\u001b[39;49m\u001b[38;5;124;43m'\u001b[39;49m\u001b[38;5;124;43mtraining\u001b[39;49m\u001b[38;5;124;43m'\u001b[39;49m\u001b[43m,\u001b[49m\u001b[43m \u001b[49m\u001b[43mresponse_train_post\u001b[49m\u001b[43m)\u001b[49m\n\u001b[1;32m    514\u001b[0m \u001b[38;5;28;01mtry\u001b[39;00m:\n\u001b[1;32m    515\u001b[0m     trained_model_guid \u001b[38;5;241m=\u001b[39m \u001b[38;5;28mself\u001b[39m\u001b[38;5;241m.\u001b[39mget_id(run_details)\n",
      "File \u001b[0;32m/Library/Frameworks/Python.framework/Versions/3.11/lib/python3.11/site-packages/ibm_watson_machine_learning/wml_resource.py:64\u001b[0m, in \u001b[0;36mWMLResource._handle_response\u001b[0;34m(self, expected_status_code, operationName, response, json_response)\u001b[0m\n\u001b[1;32m     62\u001b[0m         \u001b[38;5;28;01mreturn\u001b[39;00m response\u001b[38;5;241m.\u001b[39mtext\n\u001b[1;32m     63\u001b[0m \u001b[38;5;28;01melse\u001b[39;00m:\n\u001b[0;32m---> 64\u001b[0m     \u001b[38;5;28;01mraise\u001b[39;00m ApiRequestFailure(\u001b[38;5;124mu\u001b[39m\u001b[38;5;124m'\u001b[39m\u001b[38;5;124mFailure during \u001b[39m\u001b[38;5;132;01m{}\u001b[39;00m\u001b[38;5;124m.\u001b[39m\u001b[38;5;124m'\u001b[39m\u001b[38;5;241m.\u001b[39mformat(operationName), response)\n",
      "\u001b[0;31mApiRequestFailure\u001b[0m: Failure during training. (POST https://us-south.ml.cloud.ibm.com/ml/v4/trainings?version=2023-12-05)\nStatus code: 400, body: {\"trace\":\"a9e7dc784848fbedcf576d66ba76fdd7\",\"errors\":[{\"code\":\"pt_unavailable_for_plan\",\"message\":\"To use Tuning Studio, upgrade your Watson Machine Learning service plan 'Lite' to a paid plan.\",\"more_info\":\"https://cloud.ibm.com/apidocs/machine-learning\"}],\"status_code\":\"400\"}"
     ]
    }
   ],
   "source": [
    "from ibm_watson_machine_learning.helpers import DataConnection, ContainerLocation\n",
    "\n",
    "tuning_details = prompt_tuner.run(\n",
    "    training_data_references=[DataConnection(\n",
    "        data_asset_id=asset_details['metadata']['guid'])\n",
    "    ],\n",
    "    background_mode=True)\n",
    "\n",
    "# OR\n",
    "\n",
    "tuning_details = prompt_tuner.run(\n",
    "    training_data_references=[DataConnection(\n",
    "        location=ContainerLocation(\"caneng1000.json\"))\n",
    "    ],\n",
    "    background_mode=True)"
   ]
  },
  {
   "cell_type": "code",
   "execution_count": null,
   "metadata": {},
   "outputs": [],
   "source": [
    "status = prompt_tuner.get_run_status()\n",
    "print(status)"
   ]
  },
  {
   "cell_type": "code",
   "execution_count": null,
   "metadata": {},
   "outputs": [],
   "source": [
    "data_connections = prompt_tuner.get_data_connections()\n",
    "\n",
    "# Get data in binary format\n",
    "binary_data = data_connections[0].read(binary=True)"
   ]
  },
  {
   "cell_type": "code",
   "execution_count": null,
   "metadata": {},
   "outputs": [],
   "source": [
    "prompt_tuner.plot_learning_curve()"
   ]
  },
  {
   "cell_type": "code",
   "execution_count": null,
   "metadata": {},
   "outputs": [],
   "source": [
    "model_id = prompt_tuner.get_model_id()\n",
    "print(model_id)"
   ]
  },
  {
   "cell_type": "code",
   "execution_count": null,
   "metadata": {},
   "outputs": [],
   "source": [
    "results = prompt_tuner.summary()\n",
    "print(results)"
   ]
  },
  {
   "cell_type": "code",
   "execution_count": 6,
   "metadata": {},
   "outputs": [
    {
     "ename": "NameError",
     "evalue": "name 'dataset_id' is not defined",
     "output_type": "error",
     "traceback": [
      "\u001b[0;31m---------------------------------------------------------------------------\u001b[0m",
      "\u001b[0;31mNameError\u001b[0m                                 Traceback (most recent call last)",
      "Cell \u001b[0;32mIn[6], line 4\u001b[0m\n\u001b[1;32m      1\u001b[0m \u001b[39mfrom\u001b[39;00m \u001b[39mdatasets\u001b[39;00m \u001b[39mimport\u001b[39;00m load_dataset\n\u001b[1;32m      3\u001b[0m \u001b[39m# Load dataset from the hub\u001b[39;00m\n\u001b[0;32m----> 4\u001b[0m dataset \u001b[39m=\u001b[39m load_dataset(dataset_id)\n\u001b[1;32m      6\u001b[0m \u001b[39mprint\u001b[39m(\u001b[39mf\u001b[39m\u001b[39m\"\u001b[39m\u001b[39mTrain dataset size: \u001b[39m\u001b[39m{\u001b[39;00m\u001b[39mlen\u001b[39m(dataset[\u001b[39m'\u001b[39m\u001b[39mtrain\u001b[39m\u001b[39m'\u001b[39m])\u001b[39m}\u001b[39;00m\u001b[39m\"\u001b[39m)\n\u001b[1;32m      7\u001b[0m \u001b[39mprint\u001b[39m(\u001b[39mf\u001b[39m\u001b[39m\"\u001b[39m\u001b[39mTest dataset size: \u001b[39m\u001b[39m{\u001b[39;00m\u001b[39mlen\u001b[39m(dataset[\u001b[39m'\u001b[39m\u001b[39mtest\u001b[39m\u001b[39m'\u001b[39m])\u001b[39m}\u001b[39;00m\u001b[39m\"\u001b[39m)\n",
      "\u001b[0;31mNameError\u001b[0m: name 'dataset_id' is not defined"
     ]
    }
   ],
   "source": [
    "from datasets import load_dataset\n",
    "\n",
    "dataset_id = \"samsum\"\n",
    "# Load dataset from the hub\n",
    "dataset = load_dataset(dataset_id)\n",
    "\n",
    "print(f\"Train dataset size: {len(dataset['train'])}\")\n",
    "print(f\"Test dataset size: {len(dataset['test'])}\")\n",
    "\n",
    "# Train dataset size: 14732\n",
    "# Test dataset size: 819"
   ]
  },
  {
   "cell_type": "code",
   "execution_count": null,
   "metadata": {},
   "outputs": [],
   "source": []
  }
 ],
 "metadata": {
  "kernelspec": {
   "display_name": "Python 3",
   "language": "python",
   "name": "python3"
  },
  "language_info": {
   "codemirror_mode": {
    "name": "ipython",
    "version": 3
   },
   "file_extension": ".py",
   "mimetype": "text/x-python",
   "name": "python",
   "nbconvert_exporter": "python",
   "pygments_lexer": "ipython3",
   "version": "3.11.4"
  },
  "orig_nbformat": 4
 },
 "nbformat": 4,
 "nbformat_minor": 2
}
