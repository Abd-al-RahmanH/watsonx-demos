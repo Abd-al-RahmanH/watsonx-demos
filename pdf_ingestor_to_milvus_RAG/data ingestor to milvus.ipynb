{
 "cells": [
  {
   "cell_type": "code",
   "execution_count": 1,
   "metadata": {},
   "outputs": [],
   "source": [
    "import os\n",
    "import time\n",
    "\n",
    "from pymilvus import connections\n",
    "from pymilvus import FieldSchema\n",
    "from pymilvus import CollectionSchema\n",
    "from pymilvus import DataType\n",
    "from pymilvus import Collection\n",
    "from pymilvus import utility\n",
    "\n",
    "from langchain.embeddings import HuggingFaceEmbeddings\n",
    "from langchain.document_loaders import PyPDFLoader\n",
    "from langchain.text_splitter import RecursiveCharacterTextSplitter, CharacterTextSplitter\n",
    "\n",
    "from dotenv import load_dotenv\n",
    "import genai.extensions.langchain\n",
    "from genai.extensions.langchain import LangChainInterface\n",
    "from genai.schemas import GenerateParams\n",
    "from genai import Credentials\n",
    "from genai import Model\n",
    "from genai import PromptPattern\n",
    "\n",
    "from langchain.vectorstores import FAISS"
   ]
  },
  {
   "cell_type": "code",
   "execution_count": 2,
   "metadata": {},
   "outputs": [],
   "source": [
    "load_dotenv()\n",
    "api_key = os.getenv(\"GENAI_KEY\", None)\n",
    "api_endpoint = os.getenv(\"GENAI_API\", None)\n",
    "COLLECTION_NAME = os.getenv(\"COLLECTION_NAME\", None)\n",
    "EMBEDDING_DIMENSION = os.getenv(\"EMBEDDING_DIMENSION\", None)\n",
    "EMBEDDING_COUNT = os.getenv(\"EMBEDDING_COUNT\", None)\n",
    "EMBEDDING_MAX = os.getenv(\"EMBEDDING_MAX\",None)\n",
    "MILVUS_HOST = os.getenv(\"MILVUS_HOST\", None)\n",
    "MILVUS_PORT = os.getenv(\"MILVUS_PORT\", None)"
   ]
  },
  {
   "cell_type": "code",
   "execution_count": 3,
   "metadata": {},
   "outputs": [],
   "source": [
    "chunk_size = 1000\n",
    "chunk_overlap = 150\n",
    "separator = \"\\n\"\n",
    "\n",
    "r_splitter = RecursiveCharacterTextSplitter(chunk_size=chunk_size, chunk_overlap=chunk_overlap)\n",
    "c_splitter = CharacterTextSplitter(chunk_size=chunk_size, chunk_overlap=chunk_overlap, separator=separator)"
   ]
  },
  {
   "cell_type": "code",
   "execution_count": 4,
   "metadata": {},
   "outputs": [],
   "source": [
    "load_dotenv()\n",
    "api_key = os.getenv(\"GENAI_KEY\", None)\n",
    "creds = Credentials(api_key)\n",
    "params = GenerateParams(\n",
    "    decoding_method = \"greedy\"\n",
    ")"
   ]
  },
  {
   "cell_type": "code",
   "execution_count": 6,
   "metadata": {},
   "outputs": [
    {
     "data": {
      "text/plain": [
       "Status(code=0, message=)"
      ]
     },
     "execution_count": 6,
     "metadata": {},
     "output_type": "execute_result"
    }
   ],
   "source": [
    "connections.connect(host = MILVUS_HOST, port = MILVUS_PORT)\n",
    "\n",
    "if utility.has_collection(COLLECTION_NAME):\n",
    "   utility.drop_collection(COLLECTION_NAME)\n",
    "\n",
    "fields = [\n",
    "    FieldSchema(name = \"id\", dtype = DataType.INT64, description = \"Ids\", is_primary = True, auto_id = False),\n",
    "    FieldSchema(name = \"content\", dtype = DataType.VARCHAR, description = \"Content texts\", max_length = EMBEDDING_MAX),\n",
    "    FieldSchema(name = \"embedding\", dtype = DataType.FLOAT_VECTOR, description = \"Embedding vectors\", dim = EMBEDDING_DIMENSION)\n",
    "]\n",
    "schema = CollectionSchema(fields = fields, description = \"content collection\")\n",
    "collection = Collection(name = COLLECTION_NAME, schema = schema)\n",
    "\n",
    "index_params = {\n",
    "    \"index_type\": \"IVF_FLAT\",\n",
    "    \"metric_type\": \"L2\",\n",
    "    \"params\": {\"nlist\": 1024}\n",
    "}\n",
    "collection.create_index(field_name = \"embedding\", index_params = index_params)"
   ]
  },
  {
   "cell_type": "code",
   "execution_count": 7,
   "metadata": {},
   "outputs": [],
   "source": [
    "embeddings = HuggingFaceEmbeddings()"
   ]
  },
  {
   "cell_type": "code",
   "execution_count": 8,
   "metadata": {},
   "outputs": [],
   "source": [
    "def loadPDF(filename):\n",
    "    loader = PyPDFLoader(filename)\n",
    "    pages = loader.load()\n",
    "\n",
    "    len(pages)\n",
    "\n",
    "    # page= pages[10]\n",
    "\n",
    "    # page.metadata\n",
    "\n",
    "    # print(page.page_content[:500])\n",
    "\n",
    "    docs = r_splitter.split_documents(pages)\n",
    "\n",
    "    print(docs[1].page_content)\n",
    "    print(docs[1].metadata)\n",
    "    len(docs)\n",
    "    return docs"
   ]
  },
  {
   "cell_type": "code",
   "execution_count": 9,
   "metadata": {},
   "outputs": [],
   "source": [
    "def storeToMilvus(docs):\n",
    "    start = time.time()\n",
    "    data = [[], [], []]\n",
    "    if docs:\n",
    "        for idx, text in enumerate(docs):\n",
    "            data[0].append(idx)\n",
    "            data[1].append(text.page_content)\n",
    "            if len(text.page_content) > 768:\n",
    "                tt = text.page_content[:766] + \"..\"\n",
    "                data[2].append(embeddings.embed_query(tt))\n",
    "            else:\n",
    "                data[2].append(embeddings.embed_query(text.page_content))\n",
    "\n",
    "    collection.insert(data)\n",
    "    end = time.time()\n",
    "    print(\"Duration: \", end - start)"
   ]
  },
  {
   "cell_type": "code",
   "execution_count": 10,
   "metadata": {},
   "outputs": [],
   "source": [
    "from pathlib import Path\n",
    "\n",
    "for path in Path('content').rglob('*.pdf'):\n",
    "    print(os.curdir + '/content/'+ path.name)\n",
    "    docs = loadPDF(os.curdir + '/content/'+ path.name)\n",
    "    storeToMilvus(docs)\n",
    "\n",
    "# print(\"Number of entities: \", collection.num_entities)"
   ]
  },
  {
   "cell_type": "markdown",
   "metadata": {},
   "source": [
    "#searching"
   ]
  },
  {
   "cell_type": "code",
   "execution_count": 11,
   "metadata": {},
   "outputs": [
    {
     "name": "stdout",
     "output_type": "stream",
     "text": [
      "Searching for term: camera\n",
      "Search time:  0.2746272087097168\n",
      "Searching for term: phone\n",
      "Search time:  0.2411642074584961\n",
      "Searching for term: 5G\n",
      "Search time:  0.2411508560180664\n"
     ]
    }
   ],
   "source": [
    "collection.load()\n",
    "\n",
    "def search(text, embeddings):\n",
    "    results = collection.search(\n",
    "        data = [embeddings.embed_query(text)],\n",
    "        anns_field = \"embedding\",\n",
    "        param = {\"metric_type\": \"L2\"},\n",
    "        limit = 5,\n",
    "        output_fields = [\"content\"]\n",
    "    )\n",
    "\n",
    "    ret = []\n",
    "    for hit in results[0]:\n",
    "        row = []\n",
    "        row.extend([hit.id, hit.score, hit.entity.get(\"content\")])\n",
    "        ret.append(row)\n",
    "    return ret\n",
    "\n",
    "search_terms = [\"camera\", \"phone\", \"5G\"]\n",
    "for x in search_terms:\n",
    "    print(\"Searching for term:\", x)\n",
    "    s1 = time.time()\n",
    "    for result in search(x, embeddings):\n",
    "        print(result)\n",
    "    e1 = time.time()\n",
    "    print(\"Search time: \", e1 - s1)"
   ]
  }
 ],
 "metadata": {
  "kernelspec": {
   "display_name": "Python 3",
   "language": "python",
   "name": "python3"
  },
  "language_info": {
   "codemirror_mode": {
    "name": "ipython",
    "version": 3
   },
   "file_extension": ".py",
   "mimetype": "text/x-python",
   "name": "python",
   "nbconvert_exporter": "python",
   "pygments_lexer": "ipython3",
   "version": "3.11.4"
  },
  "orig_nbformat": 4
 },
 "nbformat": 4,
 "nbformat_minor": 2
}
