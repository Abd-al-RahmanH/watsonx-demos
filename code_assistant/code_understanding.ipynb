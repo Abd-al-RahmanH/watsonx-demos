{
 "cells": [
  {
   "cell_type": "code",
   "execution_count": null,
   "metadata": {},
   "outputs": [],
   "source": [
    "!pip install openai tiktoken chromadb langchain"
   ]
  },
  {
   "cell_type": "code",
   "execution_count": 1,
   "metadata": {},
   "outputs": [],
   "source": [
    "import dotenv\n",
    "import os\n",
    "\n",
    "from genai.credentials import Credentials\n",
    "from genai.extensions.langchain import LangChainInterface\n",
    "from genai.schemas import GenerateParams\n",
    "from genai.model import Model\n",
    "\n",
    "# from ibm_watson_machine_learning.foundation_models.utils.enums import ModelTypes\n",
    "# from ibm_watson_machine_learning.foundation_models import Model\n",
    "# from ibm_watson_machine_learning.metanames import GenTextParamsMetaNames as GenParams\n",
    "# from ibm_watson_machine_learning.foundation_models.extensions.langchain import WatsonxLLM"
   ]
  },
  {
   "cell_type": "code",
   "execution_count": 2,
   "metadata": {},
   "outputs": [],
   "source": [
    "dotenv.load_dotenv()\n",
    "\n",
    "api_key = os.getenv(\"GENAI_KEY\", None)\n",
    "api_endpoint = os.getenv(\"GENAI_API\", None)\n",
    "\n",
    "creds = Credentials(api_key,api_endpoint)\n",
    "\n",
    "params = GenerateParams(\n",
    "    decoding_method=\"greedy\",\n",
    "    max_new_tokens=1000,\n",
    "    min_new_tokens=15,\n",
    "    stop_sequences=['\\n\\n']\n",
    ").dict()\n",
    "\n",
    "# api_key = os.getenv(\"API_KEY\", None)\n",
    "# project_id = os.getenv(\"PROJECT_ID\", None)\n",
    "\n",
    "# creds = {\n",
    "#     \"url\"    : \"https://us-south.ml.cloud.ibm.com\",\n",
    "#     \"apikey\" : api_key\n",
    "# }\n",
    "\n",
    "# params = {\n",
    "#     GenParams.DECODING_METHOD:\"greedy\",\n",
    "#     GenParams.MAX_NEW_TOKENS:300,\n",
    "#     GenParams.MIN_NEW_TOKENS:15,\n",
    "#     GenParams.REPETITION_PENALTY:2\n",
    "# }"
   ]
  },
  {
   "cell_type": "code",
   "execution_count": 3,
   "metadata": {},
   "outputs": [],
   "source": [
    "# model = Model(ModelTypes.LLAMA_2_70B_CHAT,creds,params,project_id)\n",
    "# model = Model(model=\"bigcode/starcoder\",credentials=creds, params=params)\n",
    "\n",
    "llm = LangChainInterface(model=\"bigcode/starcoder\", credentials=creds, params=params)"
   ]
  },
  {
   "cell_type": "code",
   "execution_count": 4,
   "metadata": {},
   "outputs": [],
   "source": [
    "from langchain.text_splitter import Language\n",
    "from langchain.document_loaders.generic import GenericLoader\n",
    "from langchain.document_loaders.parsers import LanguageParser"
   ]
  },
  {
   "cell_type": "code",
   "execution_count": 5,
   "metadata": {},
   "outputs": [
    {
     "data": {
      "text/plain": [
       "2"
      ]
     },
     "execution_count": 5,
     "metadata": {},
     "output_type": "execute_result"
    }
   ],
   "source": [
    "loader = GenericLoader.from_filesystem(\n",
    "    \"../../samples/\",\n",
    "    glob=\"**/*\",\n",
    "    suffixes=[\".sql\"],\n",
    "    parser=LanguageParser(),\n",
    "    # parser=LanguageParser(language=Language.SQL, parser_threshold=500)\n",
    ")\n",
    "documents = loader.load()\n",
    "len(documents)"
   ]
  },
  {
   "cell_type": "code",
   "execution_count": 7,
   "metadata": {},
   "outputs": [
    {
     "name": "stderr",
     "output_type": "stream",
     "text": [
      "Not supported query type: /** RAQ **/\t\t\t\t\t\t\t  \n",
      "\t\t\t\t\t\t\t\t  \n",
      "sel dtab1.*,                                                 \n",
      "case when PI_Warning = 'Y' then 'Y'                                                 \n",
      "         when PI_Warning is null then null else 'N' end  \"Professional_Investor\",                                        \n",
      "case when Vulnerable_Customer = 'Y' then 'Y'                                                 \n",
      "        when Vulnerable_Customer is null then null else 'N' end \"Vulnerable_Customer\",                                        \n",
      "case when With_BEA_Invest_Acct_Rels = 'Y' then 'Y' else 'N' end \"With_BEA_Invest_Acct_Rels\"                                               \n",
      "from                                                \n",
      "                                                \n",
      "(sel     e.party_intl_nbr,                                            \n",
      "        q.doc_type_Code,                                                           \n",
      "        q.issue_country_code,                                                                             \n",
      "        q.dte_of_birth_incorporation,                                        \n",
      "        q.education_lvl,                                        \n",
      "        q.total_asset,                                        \n",
      "        q.mthly_income,                                        \n",
      "        q.blind_ind,                                        \n",
      "        q.impaired_ind,                                        \n",
      "        q.quest_id,                                        \n",
      "        q.quest_type,                                        \n",
      "        q.raq_chnl,                                        \n",
      "        q.sign_dte,                                        \n",
      "        q.sign_time,                                        \n",
      "        q.version,                                        \n",
      "        q.br_code,                                        \n",
      "        q.risk_status,                                        \n",
      "        case when q.sign_dte <= add_months(date '?Month_End_Dte', -12) then 'E'                                         \n",
      "                when (date '?Month_End_Dte'-dte_of_birth_incorporation)/365.25 between 18 and 24.99 and quest_type = 'RI' and version >= 6 and substr(q.quest_ans, 1,1) = '1' then real_risk_lvl                                \n",
      "                when (date '?Month_End_Dte'-dte_of_birth_incorporation)/365.25 between 25 and 34.99 and quest_type = 'RI' and version >= 6 and substr(q.quest_ans, 1,1) = '2' then real_risk_lvl                                \n",
      "                when (date '?Month_End_Dte'-dte_of_birth_incorporation)/365.25 between 35 and 50.99 and quest_type = 'RI' and version >= 6 and substr(q.quest_ans, 1,1) = '3' then real_risk_lvl                                \n",
      "                when (date '?Month_End_Dte'-dte_of_birth_incorporation)/365.25 between 51 and 64.99 and quest_type = 'RI' and version >= 6 and substr(q.quest_ans, 1,1) = '4' then real_risk_lvl                                \n",
      "                when (date '?Month_End_Dte'-dte_of_birth_incorporation)/365.25 >= 65 and quest_type = 'RI' and version >= 6 and substr(q.quest_ans, 1,1) = '5' then real_risk_lvl                                \n",
      "                when quest_type = 'RC' then real_risk_lvl                                \n",
      "        else 'O'    end \"Risk_Lvl\",                                    \n",
      "case when length(trim(q.quest_ans)) = 40 then substr(q.quest_ans,1,1) else '' end \"Ans_1\",\n",
      "case when length(trim(q.quest_ans)) = 40 then substr(q.quest_ans,2,1) else substr(q.quest_ans,1,1) end \"Ans_2\",\n",
      "case when length(trim(q.quest_ans)) = 40 then substr(q.quest_ans,3,1) else substr(q.quest_ans,2,1) end \"Ans_3\",\n",
      "case when length(trim(q.quest_ans)) = 40 then substr(q.quest_ans,4,1) else substr(q.quest_ans,3,1) end \"Ans_4\",\n",
      "case when length(trim(q.quest_ans)) = 40 then substr(q.quest_ans,5,1) else substr(q.quest_ans,4,1) end \"Ans_5\",\n",
      "case when length(trim(q.quest_ans)) = 40 then substr(q.quest_ans,6,1) else substr(q.quest_ans,5,1) end \"Ans_6\",\n",
      "case when length(trim(q.quest_ans)) = 40 then substr(q.quest_ans,7,1) else substr(q.quest_ans,6,1) end \"Ans_7\",\n",
      "case when length(trim(q.quest_ans)) = 40 then substr(q.quest_ans,8,1) else substr(q.quest_ans,7,1) end \"Ans_8ia\",\n",
      "case when length(trim(q.quest_ans)) = 40 then substr(q.quest_ans,9,1) else substr(q.quest_ans,8,1) end \"Ans_8ib\",\n",
      "case when length(trim(q.quest_ans)) = 40 then substr(q.quest_ans,10,1) else substr(q.quest_ans,9,1) end \"Ans_8iia\",\n",
      "case when length(trim(q.quest_ans)) = 40 then substr(q.quest_ans,11,1) else substr(q.quest_ans,10,1) end \"Ans_8iib\",\n",
      "case when length(trim(q.quest_ans)) = 40 then substr(q.quest_ans,12,1) else substr(q.quest_ans,11,1) end \"Ans_8iiia\",\n",
      "case when length(trim(q.quest_ans)) = 40 then substr(q.quest_ans,13,1) else substr(q.quest_ans,12,1) end \"Ans_8iiib\",\n",
      "case when length(trim(q.quest_ans)) = 40 then substr(q.quest_ans,14,1) else substr(q.quest_ans,13,1) end \"Ans_8iva\",\n",
      "case when length(trim(q.quest_ans)) = 40 then substr(q.quest_ans,15,1) else substr(q.quest_ans,14,1) end \"Ans_8ivb\",\n",
      "case when length(trim(q.quest_ans)) = 40 then substr(q.quest_ans,16,1) else substr(q.quest_ans,15,1) end \"Ans_8va\",\n",
      "case when length(trim(q.quest_ans)) = 40 then substr(q.quest_ans,17,1) else substr(q.quest_ans,16,1) end \"Ans_8vb\",\n",
      "case when length(trim(q.quest_ans)) = 40 then substr(q.quest_ans,18,1) else substr(q.quest_ans,17,1) end \"Ans_8via\",\n",
      "case when length(trim(q.quest_ans)) = 40 then substr(q.quest_ans,19,1) else substr(q.quest_ans,18,1) end \"Ans_8vib\",\n",
      "case when length(trim(q.quest_ans)) = 40 then substr(q.quest_ans,20,1) else substr(q.quest_ans,19,1) end \"Ans_8viia\",\n",
      "case when length(trim(q.quest_ans)) = 40 then substr(q.quest_ans,21,1) else substr(q.quest_ans,20,1) end \"Ans_8viib\",\n",
      "case when length(trim(q.quest_ans)) = 40 then substr(q.quest_ans,22,1) else substr(q.quest_ans,21,1) end \"Ans_8viiia\",\n",
      "case when length(trim(q.quest_ans)) = 40 then substr(q.quest_ans,23,1) else substr(q.quest_ans,22,1) end \"Ans_8viiib\",\n",
      "case when length(trim(q.quest_ans)) = 40 then substr(q.quest_ans,24,1) else substr(q.quest_ans,23,1) end \"Ans_8ixa\",\n",
      "case when length(trim(q.quest_ans)) = 40 then substr(q.quest_ans,25,1) else substr(q.quest_ans,24,1) end \"Ans_8ixb\",\n",
      "case when length(trim(q.quest_ans)) = 40 then substr(q.quest_ans,26,1) else substr(q.quest_ans,25,1) end \"Ans_8xa\",\n",
      "case when length(trim(q.quest_ans)) = 40 then substr(q.quest_ans,27,1) else substr(q.quest_ans,26,1) end \"Ans_8xb\",\n",
      "case when length(trim(q.quest_ans)) = 40 then substr(q.quest_ans,28,1) else substr(q.quest_ans,27,1) end \"Ans_8xia\",\n",
      "case when length(trim(q.quest_ans)) = 40 then substr(q.quest_ans,29,1) else substr(q.quest_ans,28,1) end \"Ans_8xib\",\n",
      "case when length(trim(q.quest_ans)) = 40 then substr(q.quest_ans,30,1) else substr(q.quest_ans,29,1) end \"Ans_8xiia\",\n",
      "case when length(trim(q.quest_ans)) = 40 then substr(q.quest_ans,31,1) else substr(q.quest_ans,30,1) end \"Ans_8xiib\",\n",
      "case when length(trim(q.quest_ans)) = 40 then substr(q.quest_ans,32,1) else substr(q.quest_ans,31,1) end \"Ans_8xiiia\",\n",
      "case when length(trim(q.quest_ans)) = 40 then substr(q.quest_ans,33,1) else substr(q.quest_ans,32,1) end \"Ans_8xiiib\",\n",
      "case when length(trim(q.quest_ans)) = 40 then substr(q.quest_ans,34,1) else substr(q.quest_ans,33,1) end \"Ans_8xiva\",\n",
      "case when length(trim(q.quest_ans)) = 40 then substr(q.quest_ans,35,1) else substr(q.quest_ans,34,1) end \"Ans_8xivb\",\n",
      "case when length(trim(q.quest_ans)) = 40 then substr(q.quest_ans,36,1) else substr(q.quest_ans,35,1) end \"Ans_8xva\",\n",
      "case when length(trim(q.quest_ans)) = 40 then substr(q.quest_ans,37,1) else substr(q.quest_ans,36,1) end \"Ans_8xvb\",\n",
      "case when length(trim(q.quest_ans)) = 40 then substr(q.quest_ans,38,1) else substr(q.quest_ans,37,1) end \"Ans_8xvia\",\n",
      "case when length(trim(q.quest_ans)) = 40 then substr(q.quest_ans,39,1) else substr(q.quest_ans,38,1) end \"Ans_8xvib\",\n",
      "case when length(trim(q.quest_ans)) = 40 then substr(q.quest_ans,40,1) else substr(q.quest_ans,39,1) end \"Ans_9\",\n",
      "        e.org_business_type_Code \"Biz_Type\", First_Vul_Cust, Final_Vul_Cust, Observe_Impaired_Ind                                        \n",
      "                                                \n",
      "from                                                 \n",
      "(sel * from irn_raq                                                \n",
      "where (doc_type_code, doc_nbr, issue_Country_Code, sign_dte||sign_time) in                                                \n",
      "(sel doc_type_Code, doc_nbr, issue_Country_Code, max(sign_Dte||sign_time)                                                \n",
      "from irn_raq                                                \n",
      "where  sign_dte <= date '?Month_End_Dte'                                                \n",
      "group by 1,2,3)                                                \n",
      "and quest_type not in ('PI','PC')                                                \n",
      ") q                                                 \n",
      "                                                \n",
      "left outer join                                                 \n",
      "                                                \n",
      "(sel s.*, e.party_intl_nbr from party_cis s, party_entity e                                                \n",
      "where e.doc_nbr = s.doc_nbr and e.doc_Type_Code = s.doc_Type_code and e.issue_Country_code = s.issue_Country_Code                                                \n",
      "and e.entity_nbr = '0015') e                                                \n",
      "                                                \n",
      "on q.doc_nbr = e.doc_nbr and q.doc_Type_Code = e.doc_Type_code and q.issue_Country_code = e.issue_Country_Code) dtab1                                                \n",
      "                                                \n",
      "left outer join                                                 \n",
      "                                                \n",
      "(sel distinct     e.party_intl_nbr,                                            \n",
      "'Y' \"With_BEA_Invest_Acct_Rels\"                                                \n",
      "from party_acct a, acct t, party_entity e                                                \n",
      "where acct_party_end_dte > date '?Month_End_Dte'                                                \n",
      "and acct_close_Dte > date '?Month_End_Dte'                                                \n",
      "and acct_party_role_code in ('1','2')                                                \n",
      "and a.acct_nbr = t.acct_nbr and a.appl_id = t.appl_id and a.control_fields = t.control_fields                                                \n",
      "and a.doc_nbr = e.doc_nbr and a.doc_Type_code = e.doc_Type_code and a.issue_country_code = e.issue_Country_code                                                \n",
      "and e.entity_nbr = '0015'                                                \n",
      " and a.appl_id in ('LDS','SCS')) dtabq                                                \n",
      "                                                \n",
      "on dtab1.party_intl_nbr = dtabq.party_intL_nbr                                                \n",
      "                                                \n",
      "left outer join                                                 \n",
      "                                                \n",
      "(sel distinct e.party_intl_nbr, 'Y' \"PI_Warning\"                                                 \n",
      "from party_warning a, party_entity e                                                \n",
      "where warning_Categ_Code = '048'                                                \n",
      "and a.doc_nbr = e.doc_nbr and a.doc_Type_code = e.doc_Type_code and a.issue_country_code = e.issue_Country_code                                                \n",
      "and e.entity_nbr = '0015'                                                \n",
      "and end_Dte >date '?Month_End_Dte') dtabw                                                \n",
      "                                                \n",
      "on dtab1.party_intl_nbr = dtabw.party_intL_nbr                                                \n",
      "                                                \n",
      "left outer join                                                 \n",
      "                                                \n",
      "(sel distinct e.party_intl_nbr, 'Y' \"Vulnerable_Customer\"                                                \n",
      "from (sel * from irn_raq                                                \n",
      "where (doc_type_code, doc_nbr, issue_Country_Code, sign_dte||sign_time) in                                                \n",
      "(sel doc_type_Code, doc_nbr, issue_Country_Code, max(sign_Dte||sign_time)                                                \n",
      "from irn_raq                                                \n",
      "where  sign_dte <= date '?Month_End_Dte'                                                \n",
      "group by 1,2,3)                                                \n",
      "and quest_type not in ('PI','PC')                                                \n",
      ") a, party_entity e                                                \n",
      "where a.doc_nbr = e.doc_nbr and a.doc_Type_code = e.doc_Type_code and a.issue_country_code = e.issue_Country_code                                                \n",
      "and e.entity_nbr = '0015'                                                \n",
      "and (((date '?Month_End_Dte'-dte_of_birth_incorporation)/365.25 >= 65) or (education_lvl = '1') or (blind_ind = 'Y') or (impaired_ind = 'Y') or (Mthly_Income = '1') or (Total_Asset = '1') or (Observe_Impaired_Ind = 'Y') or (Final_Vul_Cust = 'Y'))                                                \n",
      ") dtabv                                                \n",
      "                                                \n",
      "on dtab1.party_intl_nbr = dtabv.party_intL_nbr;\n",
      "\n"
     ]
    },
    {
     "ename": "ValueError",
     "evalue": "Not supported query type!",
     "output_type": "error",
     "traceback": [
      "\u001b[0;31m---------------------------------------------------------------------------\u001b[0m",
      "\u001b[0;31mValueError\u001b[0m                                Traceback (most recent call last)",
      "\u001b[1;32m/Users/yingkitw/Desktop/watsonx-demo/code_assistant/code_understanding.ipynb Cell 7\u001b[0m line \u001b[0;36m6\n\u001b[1;32m      <a href='vscode-notebook-cell:/Users/yingkitw/Desktop/watsonx-demo/code_assistant/code_understanding.ipynb#W6sZmlsZQ%3D%3D?line=3'>4</a>\u001b[0m \u001b[39mfor\u001b[39;00m doc \u001b[39min\u001b[39;00m documents:\n\u001b[1;32m      <a href='vscode-notebook-cell:/Users/yingkitw/Desktop/watsonx-demo/code_assistant/code_understanding.ipynb#W6sZmlsZQ%3D%3D?line=4'>5</a>\u001b[0m     parser \u001b[39m=\u001b[39m Parser(doc\u001b[39m.\u001b[39mpage_content)\n\u001b[0;32m----> <a href='vscode-notebook-cell:/Users/yingkitw/Desktop/watsonx-demo/code_assistant/code_understanding.ipynb#W6sZmlsZQ%3D%3D?line=5'>6</a>\u001b[0m     \u001b[39mfor\u001b[39;00m key \u001b[39min\u001b[39;00m parser\u001b[39m.\u001b[39;49msubqueries:\n\u001b[1;32m      <a href='vscode-notebook-cell:/Users/yingkitw/Desktop/watsonx-demo/code_assistant/code_understanding.ipynb#W6sZmlsZQ%3D%3D?line=6'>7</a>\u001b[0m         \u001b[39mprint\u001b[39m(\u001b[39mf\u001b[39m\u001b[39m\"\u001b[39m\u001b[39msubquery- \u001b[39m\u001b[39m{\u001b[39;00mkey\u001b[39m}\u001b[39;00m\u001b[39m - \u001b[39m\u001b[39m{\u001b[39;00mparser\u001b[39m.\u001b[39msubqueries[key]\u001b[39m}\u001b[39;00m\u001b[39m\"\u001b[39m)\n\u001b[1;32m      <a href='vscode-notebook-cell:/Users/yingkitw/Desktop/watsonx-demo/code_assistant/code_understanding.ipynb#W6sZmlsZQ%3D%3D?line=7'>8</a>\u001b[0m         texts \u001b[39m+\u001b[39m\u001b[39m=\u001b[39m parser\u001b[39m.\u001b[39msubqueries[key]\n",
      "File \u001b[0;32m/Library/Frameworks/Python.framework/Versions/3.11/lib/python3.11/site-packages/sql_metadata/parser.py:524\u001b[0m, in \u001b[0;36mParser.subqueries\u001b[0;34m(self)\u001b[0m\n\u001b[1;32m    522\u001b[0m     \u001b[39mreturn\u001b[39;00m \u001b[39mself\u001b[39m\u001b[39m.\u001b[39m_subqueries\n\u001b[1;32m    523\u001b[0m subqueries \u001b[39m=\u001b[39m {}\n\u001b[0;32m--> 524\u001b[0m token \u001b[39m=\u001b[39m \u001b[39mself\u001b[39;49m\u001b[39m.\u001b[39;49mtokens[\u001b[39m0\u001b[39m]\n\u001b[1;32m    525\u001b[0m \u001b[39mwhile\u001b[39;00m token\u001b[39m.\u001b[39mnext_token:\n\u001b[1;32m    526\u001b[0m     \u001b[39mif\u001b[39;00m token\u001b[39m.\u001b[39mprevious_token\u001b[39m.\u001b[39mis_subquery_start:\n",
      "File \u001b[0;32m/Library/Frameworks/Python.framework/Versions/3.11/lib/python3.11/site-packages/sql_metadata/parser.py:183\u001b[0m, in \u001b[0;36mParser.tokens\u001b[0;34m(self)\u001b[0m\n\u001b[1;32m    178\u001b[0m \u001b[39mself\u001b[39m\u001b[39m.\u001b[39m_tokens \u001b[39m=\u001b[39m tokens\n\u001b[1;32m    179\u001b[0m \u001b[39m# since tokens are used in all methods required parsing (so w/o generalization)\u001b[39;00m\n\u001b[1;32m    180\u001b[0m \u001b[39m# we set the query type here (and not in init) to allow for generalization\u001b[39;00m\n\u001b[1;32m    181\u001b[0m \u001b[39m# but disallow any other usage for not supported queries to avoid unexpected\u001b[39;00m\n\u001b[1;32m    182\u001b[0m \u001b[39m# results which are not really an error\u001b[39;00m\n\u001b[0;32m--> 183\u001b[0m _ \u001b[39m=\u001b[39m \u001b[39mself\u001b[39;49m\u001b[39m.\u001b[39;49mquery_type\n\u001b[1;32m    184\u001b[0m \u001b[39mreturn\u001b[39;00m tokens\n",
      "File \u001b[0;32m/Library/Frameworks/Python.framework/Versions/3.11/lib/python3.11/site-packages/sql_metadata/parser.py:124\u001b[0m, in \u001b[0;36mParser.query_type\u001b[0;34m(self)\u001b[0m\n\u001b[1;32m    122\u001b[0m \u001b[39mif\u001b[39;00m \u001b[39mself\u001b[39m\u001b[39m.\u001b[39m_query_type \u001b[39m==\u001b[39m \u001b[39m\"\u001b[39m\u001b[39mUNSUPPORTED\u001b[39m\u001b[39m\"\u001b[39m:\n\u001b[1;32m    123\u001b[0m     \u001b[39mself\u001b[39m\u001b[39m.\u001b[39m_logger\u001b[39m.\u001b[39merror(\u001b[39m\"\u001b[39m\u001b[39mNot supported query type: \u001b[39m\u001b[39m%s\u001b[39;00m\u001b[39m\"\u001b[39m, \u001b[39mself\u001b[39m\u001b[39m.\u001b[39m_raw_query)\n\u001b[0;32m--> 124\u001b[0m     \u001b[39mraise\u001b[39;00m \u001b[39mValueError\u001b[39;00m(\u001b[39m\"\u001b[39m\u001b[39mNot supported query type!\u001b[39m\u001b[39m\"\u001b[39m)\n\u001b[1;32m    125\u001b[0m \u001b[39mreturn\u001b[39;00m \u001b[39mself\u001b[39m\u001b[39m.\u001b[39m_query_type\n",
      "\u001b[0;31mValueError\u001b[0m: Not supported query type!"
     ]
    }
   ],
   "source": [
    "from sql_metadata import Parser\n",
    "\n",
    "texts = []\n",
    "for doc in documents:\n",
    "    parser = Parser(doc.page_content)\n",
    "    for key in parser.subqueries:\n",
    "        print(f\"subquery- {key} - {parser.subqueries[key]}\")\n",
    "        texts += parser.subqueries[key]\n",
    "\n",
    "# len(texts)\n",
    "# for text in texts:\n",
    "#     print(text)"
   ]
  },
  {
   "cell_type": "code",
   "execution_count": null,
   "metadata": {},
   "outputs": [],
   "source": [
    "from langchain.vectorstores import Chroma\n",
    "from langchain.embeddings import HuggingFaceInstructEmbeddings\n",
    "db = Chroma.from_documents(texts, HuggingFaceInstructEmbeddings())\n",
    "retriever = db.as_retriever(\n",
    "    search_type=\"mmr\", # Also test \"similarity\"\n",
    "    search_kwargs={\"k\": 8},\n",
    ")"
   ]
  },
  {
   "cell_type": "code",
   "execution_count": null,
   "metadata": {},
   "outputs": [],
   "source": [
    "from langchain.memory import ConversationSummaryMemory\n",
    "from langchain.chains import ConversationalRetrievalChain\n",
    "\n",
    "memory = ConversationSummaryMemory(llm=llm,memory_key=\"chat_history\",return_messages=True)\n",
    "qa = ConversationalRetrievalChain.from_llm(llm, retriever=retriever, memory=memory)"
   ]
  },
  {
   "cell_type": "code",
   "execution_count": null,
   "metadata": {},
   "outputs": [],
   "source": [
    "question = \"Generate a SQL to create Table with 2 column: Name, Id\"\n",
    "result = qa(question)\n",
    "result['answer']"
   ]
  },
  {
   "cell_type": "code",
   "execution_count": null,
   "metadata": {},
   "outputs": [],
   "source": [
    "questions = [\n",
    "    \"What is the class hierarchy?\",\n",
    "    \"What classes are derived from the Chain class?\",\n",
    "    \"What one improvement do you propose in code in relation to the class herarchy for the Chain class?\",\n",
    "]\n",
    "\n",
    "for question in questions:\n",
    "    result = qa(question)\n",
    "    print(f\"-> **Question**: {question} \\n\")\n",
    "    print(f\"**Answer**: {result['answer']} \\n\")"
   ]
  }
 ],
 "metadata": {
  "kernelspec": {
   "display_name": "Python 3",
   "language": "python",
   "name": "python3"
  },
  "language_info": {
   "codemirror_mode": {
    "name": "ipython",
    "version": 3
   },
   "file_extension": ".py",
   "mimetype": "text/x-python",
   "name": "python",
   "nbconvert_exporter": "python",
   "pygments_lexer": "ipython3",
   "version": "3.11.4"
  },
  "orig_nbformat": 4
 },
 "nbformat": 4,
 "nbformat_minor": 2
}
