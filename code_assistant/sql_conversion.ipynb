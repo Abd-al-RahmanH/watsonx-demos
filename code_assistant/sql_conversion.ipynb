{
 "cells": [
  {
   "cell_type": "markdown",
   "metadata": {},
   "source": [
    "for ibm cloud production environment"
   ]
  },
  {
   "cell_type": "code",
   "execution_count": 10,
   "metadata": {},
   "outputs": [],
   "source": [
    "import dotenv\n",
    "import os\n",
    "\n",
    "from langchain.chains import LLMChain\n",
    "from langchain import PromptTemplate\n",
    "\n",
    "from genai.credentials import Credentials\n",
    "from genai.extensions.langchain import LangChainInterface\n",
    "from genai.schemas import GenerateParams\n",
    "from genai.model import Model\n",
    "\n",
    "# from ibm_watson_machine_learning.foundation_models.utils.enums import ModelTypes\n",
    "# from ibm_watson_machine_learning.foundation_models import Model\n",
    "# from ibm_watson_machine_learning.metanames import GenTextParamsMetaNames as GenParams\n",
    "# from ibm_watson_machine_learning.foundation_models.extensions.langchain import WatsonxLLM"
   ]
  },
  {
   "cell_type": "code",
   "execution_count": 11,
   "metadata": {},
   "outputs": [],
   "source": [
    "dotenv.load_dotenv()\n",
    "\n",
    "api_key = os.getenv(\"GENAI_KEY\", None)\n",
    "api_endpoint = os.getenv(\"GENAI_API\", None)\n",
    "\n",
    "creds = Credentials(api_key,api_endpoint)\n",
    "\n",
    "params = GenerateParams(\n",
    "    decoding_method=\"greedy\",\n",
    "    max_new_tokens=1000,\n",
    "    min_new_tokens=15,\n",
    "    stop_sequences=['\\n\\n']\n",
    ").dict()\n",
    "\n",
    "# api_key = os.getenv(\"API_KEY\", None)\n",
    "# project_id = os.getenv(\"PROJECT_ID\", None)\n",
    "\n",
    "# creds = {\n",
    "#     \"url\"    : \"https://us-south.ml.cloud.ibm.com\",\n",
    "#     \"apikey\" : api_key\n",
    "# }\n",
    "\n",
    "# params = {\n",
    "#     GenParams.DECODING_METHOD:\"greedy\",\n",
    "#     GenParams.MAX_NEW_TOKENS:1000,\n",
    "#     GenParams.MIN_NEW_TOKENS:15\n",
    "# }"
   ]
  },
  {
   "cell_type": "code",
   "execution_count": 12,
   "metadata": {},
   "outputs": [],
   "source": [
    "# model = Model(ModelTypes.LLAMA_2_70B_CHAT,creds,params,project_id)\n",
    "# model = Model(model=\"codellama/codellama-34b-instruct\",credentials=creds, params=params)\n",
    "model = Model(model=\"bigcode/starcoder\",credentials=creds, params=params)\n",
    "    "
   ]
  },
  {
   "cell_type": "code",
   "execution_count": 13,
   "metadata": {},
   "outputs": [],
   "source": [
    "file = open(\"sample.sql\", \"r\")\n",
    "sql = file.readlines()\n",
    "\n",
    "file = open(\"sample_translated.sql\", \"r\")\n",
    "sql_translated = file.readlines()"
   ]
  },
  {
   "cell_type": "code",
   "execution_count": 14,
   "metadata": {},
   "outputs": [
    {
     "name": "stdout",
     "output_type": "stream",
     "text": [
      "subquery- SELECT e.party_intl_nbr, q.dte_of_birth_incorporation, q.education_lvl, q.total_asset, q.mthly_income, q.blind_ind, q.impaired_ind, q.quest_id, q.quest_type, q.raq_chnl, q.sign_dte, q.sign_time, q.version, q.br_code, q.risk_status, CASE WHEN q.sign_dte <= date_add(DATE '?Month_End_Dte', interval -12 MONTH) THEN 'E' WHEN ROUND(date_diff(DATE '?Month_End_Dte', q.dte_of_birth_incorporation, DAY) / NUMERIC '365.25', 2, 'ROUND_HALF_EVEN') BETWEEN 18 AND NUMERIC '24.99' AND upper(q.quest_type) = 'RI' AND q.version >= 6 AND substr(q.quest_ans, 1, 1) = '1' THEN real_risk_lvl WHEN ROUND(date_diff(DATE '?Month_End_Dte', q.dte_of_birth_incorporation, DAY) / NUMERIC '365.25', 2, 'ROUND_HALF_EVEN') BETWEEN 25 AND NUMERIC '34.99' AND upper(q.quest_type) = 'RI' AND q.version >= 6 AND substr(q.quest_ans, 1, 1) = '2' THEN real_risk_lvl WHEN ROUND(date_diff(DATE '?Month_End_Dte', q.dte_of_birth_incorporation, DAY) / NUMERIC '365.25', 2, 'ROUND_HALF_EVEN') BETWEEN 35 AND NUMERIC '50.99' AND upper(q.quest_type) = 'RI' AND q.version >= 6 AND substr(q.quest_ans, 1, 1) = '3' THEN real_risk_lvl WHEN ROUND(date_diff(DATE '?Month_End_Dte', q.dte_of_birth_incorporation, DAY) / NUMERIC '365.25', 2, 'ROUND_HALF_EVEN') BETWEEN 51 AND NUMERIC '64.99' AND upper(q.quest_type) = 'RI' AND q.version >= 6 AND substr(q.quest_ans, 1, 1) = '4' THEN real_risk_lvl WHEN ROUND(date_diff(DATE '?Month_End_Dte', q.dte_of_birth_incorporation, DAY) / NUMERIC '365.25', 2, 'ROUND_HALF_EVEN') >= 65 AND upper(q.quest_type) = 'RI' AND q.version >= 6 AND substr(q.quest_ans, 1, 1) = '5' THEN real_risk_lvl WHEN upper(q.quest_type) = 'RC' THEN real_risk_lvl ELSE 'O' END AS risk_lvl, CASE WHEN length(trim(q.quest_ans)) = 40 THEN substr(q.quest_ans, 1, 1) ELSE '' END AS ans_1, CASE WHEN length(trim(q.quest_ans)) = 40 THEN substr(q.quest_ans, 2, 1) ELSE substr(q.quest_ans, 1, 1) END AS ans_2, CASE WHEN length(trim(q.quest_ans)) = 40 THEN substr(q.quest_ans, 3, 1) ELSE substr(q.quest_ans, 2, 1) END AS ans_3, CASE WHEN length(trim(q.quest_ans)) = 40 THEN substr(q.quest_ans, 4, 1) ELSE substr(q.quest_ans, 3, 1) END AS ans_4, CASE WHEN length(trim(q.quest_ans)) = 40 THEN substr(q.quest_ans, 5, 1) ELSE substr(q.quest_ans, 4, 1) END AS ans_5, CASE WHEN length(trim(q.quest_ans)) = 40 THEN substr(q.quest_ans, 6, 1) ELSE substr(q.quest_ans, 5, 1) END AS ans_6, CASE WHEN length(trim(q.quest_ans)) = 40 THEN substr(q.quest_ans, 7, 1) ELSE substr(q.quest_ans, 6, 1) END AS ans_7, CASE WHEN length(trim(q.quest_ans)) = 40 THEN substr(q.quest_ans, 8, 1) ELSE substr(q.quest_ans, 7, 1) END AS ans_8ia, CASE WHEN length(trim(q.quest_ans)) = 40 THEN substr(q.quest_ans, 9, 1) ELSE substr(q.quest_ans, 8, 1) END AS ans_8ib, CASE WHEN length(trim(q.quest_ans)) = 40 THEN substr(q.quest_ans, 10, 1) ELSE substr(q.quest_ans, 9, 1) END AS ans_8iia, CASE WHEN length(trim(q.quest_ans)) = 40 THEN substr(q.quest_ans, 11, 1) ELSE substr(q.quest_ans, 10, 1) END AS ans_8iib, CASE WHEN length(trim(q.quest_ans)) = 40 THEN substr(q.quest_ans, 12, 1) ELSE substr(q.quest_ans, 11, 1) END AS ans_8iiia, CASE WHEN length(trim(q.quest_ans)) = 40 THEN substr(q.quest_ans, 13, 1) ELSE substr(q.quest_ans, 12, 1) END AS ans_8iiib, CASE WHEN length(trim(q.quest_ans)) = 40 THEN substr(q.quest_ans, 14, 1) ELSE substr(q.quest_ans, 13, 1) END AS ans_8iva, CASE WHEN length(trim(q.quest_ans)) = 40 THEN substr(q.quest_ans, 15, 1) ELSE substr(q.quest_ans, 14, 1) END AS ans_8ivb, CASE WHEN length(trim(q.quest_ans)) = 40 THEN substr(q.quest_ans, 16, 1) ELSE substr(q.quest_ans, 15, 1) END AS ans_8va, CASE WHEN length(trim(q.quest_ans)) = 40 THEN substr(q.quest_ans, 17, 1) ELSE substr(q.quest_ans, 16, 1) END AS ans_8vb, CASE WHEN length(trim(q.quest_ans)) = 40 THEN substr(q.quest_ans, 18, 1) ELSE substr(q.quest_ans, 17, 1) END AS ans_8via, CASE WHEN length(trim(q.quest_ans)) = 40 THEN substr(q.quest_ans, 19, 1) ELSE substr(q.quest_ans, 18, 1) END AS ans_8vib, CASE WHEN length(trim(q.quest_ans)) = 40 THEN substr(q.quest_ans, 20, 1) ELSE substr(q.quest_ans, 19, 1) END AS ans_8viia, CASE WHEN length(trim(q.quest_ans)) = 40 THEN substr(q.quest_ans, 21, 1) ELSE substr(q.quest_ans, 20, 1) END AS ans_8viib, CASE WHEN length(trim(q.quest_ans)) = 40 THEN substr(q.quest_ans, 22, 1) ELSE substr(q.quest_ans, 21, 1) END AS ans_8viiia, CASE WHEN length(trim(q.quest_ans)) = 40 THEN substr(q.quest_ans, 23, 1) ELSE substr(q.quest_ans, 22, 1) END AS ans_8viiib, CASE WHEN length(trim(q.quest_ans)) = 40 THEN substr(q.quest_ans, 24, 1) ELSE substr(q.quest_ans, 23, 1) END AS ans_8ixa, CASE WHEN length(trim(q.quest_ans)) = 40 THEN substr(q.quest_ans, 25, 1) ELSE substr(q.quest_ans, 24, 1) END AS ans_8ixb, CASE WHEN length(trim(q.quest_ans)) = 40 THEN substr(q.quest_ans, 26, 1) ELSE substr(q.quest_ans, 25, 1) END AS ans_8xa, CASE WHEN length(trim(q.quest_ans)) = 40 THEN substr(q.quest_ans, 27, 1) ELSE substr(q.quest_ans, 26, 1) END AS ans_8xb, CASE WHEN length(trim(q.quest_ans)) = 40 THEN substr(q.quest_ans, 28, 1) ELSE substr(q.quest_ans, 27, 1) END AS ans_8xia, CASE WHEN length(trim(q.quest_ans)) = 40 THEN substr(q.quest_ans, 29, 1) ELSE substr(q.quest_ans, 28, 1) END AS ans_8xib, CASE WHEN length(trim(q.quest_ans)) = 40 THEN substr(q.quest_ans, 30, 1) ELSE substr(q.quest_ans, 29, 1) END AS ans_8xiia, CASE WHEN length(trim(q.quest_ans)) = 40 THEN substr(q.quest_ans, 31, 1) ELSE substr(q.quest_ans, 30, 1) END AS ans_8xiib, CASE WHEN length(trim(q.quest_ans)) = 40 THEN substr(q.quest_ans, 32, 1) ELSE substr(q.quest_ans, 31, 1) END AS ans_8xiiia, CASE WHEN length(trim(q.quest_ans)) = 40 THEN substr(q.quest_ans, 33, 1) ELSE substr(q.quest_ans, 32, 1) END AS ans_8xiiib, CASE WHEN length(trim(q.quest_ans)) = 40 THEN substr(q.quest_ans, 34, 1) ELSE substr(q.quest_ans, 33, 1) END AS ans_8xiva, CASE WHEN length(trim(q.quest_ans)) = 40 THEN substr(q.quest_ans, 35, 1) ELSE substr(q.quest_ans, 34, 1) END AS ans_8xivb, CASE WHEN length(trim(q.quest_ans)) = 40 THEN substr(q.quest_ans, 36, 1) ELSE substr(q.quest_ans, 35, 1) END AS ans_8xva, CASE WHEN length(trim(q.quest_ans)) = 40 THEN substr(q.quest_ans, 37, 1) ELSE substr(q.quest_ans, 36, 1) END AS ans_8xvb, CASE WHEN length(trim(q.quest_ans)) = 40 THEN substr(q.quest_ans, 38, 1) ELSE substr(q.quest_ans, 37, 1) END AS ans_8xvia, CASE WHEN length(trim(q.quest_ans)) = 40 THEN substr(q.quest_ans, 39, 1) ELSE substr(q.quest_ans, 38, 1) END AS ans_8xvib, CASE WHEN length(trim(q.quest_ans)) = 40 THEN substr(q.quest_ans, 40, 1) ELSE substr(q.quest_ans, 39, 1) END AS ans_9, e.org_business_type_code AS biz_type, first_vul_cust, final_vul_cust, observe_impaired_ind FROM (SELECT * FROM irn_raq WHERE (irn_raq.doc_type_code, irn_raq.doc_nbr, irn_raq.issue_country_code, concat(irn_raq.sign_dte, irn_raq.sign_time)) IN (SELECT AS STRUCT doc_type_code, doc_nbr, issue_country_code, max(concat(sign_dte, sign_time)) FROM irn_raq AS irn_raq_0 WHERE sign_dte <= DATE '?Month_End_Dte' GROUP BY 1, 2, 3) AND irn_raq.quest_type NOT IN ('PI', 'PC')) AS q LEFT OUTER JOIN (SELECT s.*, e_0.party_intl_nbr FROM party_cis AS s CROSS JOIN party_entity AS e_0 WHERE e_0.doc_nbr = s.doc_nbr AND e_0.doc_type_code = s.doc_type_code AND e_0.issue_country_code = s.issue_country_code AND upper(e_0.entity_nbr) = '0015') AS e ON q.doc_nbr = e.doc_nbr AND q.doc_type_code = e.doc_type_code AND q.issue_country_code = e.issue_country_code\n",
      "subquery- SELECT * FROM irn_raq WHERE (irn_raq.doc_type_code, irn_raq.doc_nbr, irn_raq.issue_country_code, concat(irn_raq.sign_dte, irn_raq.sign_time)) IN (SELECT AS STRUCT doc_type_code, doc_nbr, issue_country_code, max(concat(sign_dte, sign_time)) FROM irn_raq AS irn_raq_0 WHERE sign_dte <= DATE '?Month_End_Dte' GROUP BY 1, 2, 3) AND irn_raq.quest_type NOT IN ('PI', 'PC')\n",
      "subquery- SELECT s.*, e_0.party_intl_nbr FROM party_cis AS s CROSS JOIN party_entity AS e_0 WHERE e_0.doc_nbr = s.doc_nbr AND e_0.doc_type_code = s.doc_type_code AND e_0.issue_country_code = s.issue_country_code AND upper(e_0.entity_nbr) = '0015'\n",
      "subquery- SELECT DISTINCT e.party_intl_nbr, 'Y' AS with_bea_invest_acct_rels FROM party_acct AS a CROSS JOIN acct AS t CROSS JOIN party_entity AS e WHERE acct_party_end_dte > DATE '?Month_End_Dte' AND acct_close_dte > DATE '?Month_End_Dte' AND acct_party_role_code IN ('1', '2') AND a.acct_nbr = t.acct_nbr AND a.appl_id = t.appl_id AND a.control_fields = t.control_fields AND a.doc_nbr = e.doc_nbr AND a.doc_type_code = e.doc_type_code AND a.issue_country_code = e.issue_country_code AND upper(e.entity_nbr) = '0015' AND a.appl_id IN ('LDS', 'SCS')\n",
      "subquery- SELECT DISTINCT e.party_intl_nbr, 'Y' AS pi_warning FROM party_warning AS a CROSS JOIN party_entity AS e WHERE upper(warning_categ_code) = '048' AND a.doc_nbr = e.doc_nbr AND a.doc_type_code = e.doc_type_code AND a.issue_country_code = e.issue_country_code AND upper(e.entity_nbr) = '0015' AND end_dte > DATE '?Month_End_Dte'\n",
      "subquery- SELECT DISTINCT e.party_intl_nbr, 'Y' AS vulnerable_customer FROM (SELECT irn_raq.* FROM irn_raq WHERE (irn_raq.doc_type_code, irn_raq.doc_nbr, irn_raq.issue_country_code, concat(irn_raq.sign_dte, irn_raq.sign_time)) IN (SELECT AS STRUCT irn_raq.doc_type_code, irn_raq.doc_nbr, irn_raq.issue_country_code, max(concat(irn_raq.sign_dte, irn_raq.sign_time)) FROM irn_raq AS irn_raq_0 WHERE irn_raq.sign_dte <= DATE '?Month_End_Dte' GROUP BY 1, 2, 3) AND irn_raq.quest_type NOT IN ('PI', 'PC')) AS a CROSS JOIN party_entity AS e WHERE a.doc_nbr = e.doc_nbr AND a.doc_type_code = e.doc_type_code AND a.issue_country_code = e.issue_country_code AND upper(e.entity_nbr) = '0015' AND(ROUND(date_diff(DATE '?Month_End_Dte', dte_of_birth_incorporation, DAY) / NUMERIC '365.25', 2, 'ROUND_HALF_EVEN') >= 65 OR upper(education_lvl) = '1' OR upper(blind_ind) = 'Y' OR upper(impaired_ind) = 'Y' OR upper(mthly_income) = '1' OR upper(total_asset) = '1' OR upper(observe_impaired_ind) = 'Y' OR upper(final_vul_cust) = 'Y')\n",
      "subquery- SELECT irn_raq.* FROM irn_raq WHERE (irn_raq.doc_type_code, irn_raq.doc_nbr, irn_raq.issue_country_code, concat(irn_raq.sign_dte, irn_raq.sign_time)) IN (SELECT AS STRUCT irn_raq.doc_type_code, irn_raq.doc_nbr, irn_raq.issue_country_code, max(concat(irn_raq.sign_dte, irn_raq.sign_time)) FROM irn_raq AS irn_raq_0 WHERE irn_raq.sign_dte <= DATE '?Month_End_Dte' GROUP BY 1, 2, 3) AND irn_raq.quest_type NOT IN ('PI', 'PC')\n"
     ]
    }
   ],
   "source": [
    "from sql_metadata import Parser\n",
    "\n",
    "parser = Parser(''.join(sql_translated))\n",
    "for qry in parser.subqueries.values():\n",
    "    print(f\"subquery- {qry}\")"
   ]
  },
  {
   "cell_type": "code",
   "execution_count": null,
   "metadata": {},
   "outputs": [],
   "source": [
    "few_shot_prompt = f\"\"\"Input:\n",
    "sel dtab1\n",
    "Output:\n",
    "SELECT dtab1\n",
    "Input:                                                \n",
    "when PI_Warning = 'Y' then 'Y'\n",
    "Output:\n",
    "WHEN upper(dtabw.pi_warning) = 'Y' THEN 'Y'\n",
    "Input:\n",
    "when PI_Warning is null then null else 'N' end  \"Professional_Investor\"\n",
    "Output:\n",
    "WHEN dtabw.pi_warning IS NULL THEN CAST(NULL as STRING) ELSE 'N' END AS professional_investor\n",
    "Input:\n",
    "when q.sign_dte <= add_months(date '?Month_End_Dte', -12) then 'E'                                         \n",
    "Output:\n",
    "WHEN q.sign_dte <= date_add(DATE '?Month_End_Dte', interval -12 MONTH) THEN 'E'\n",
    "Input:\n",
    "when (date '?Month_End_Dte'-dte_of_birth_incorporation)/365.25 between 18 and 24.99 and quest_type = 'RI' and version >= 6 and substr(q.quest_ans, 1,1) = '1' then real_risk_lvl\n",
    "Output:\n",
    "WHEN ROUND(date_diff(DATE '?Month_End_Dte', q.dte_of_birth_incorporation, DAY) / NUMERIC '365.25', 2, 'ROUND_HALF_EVEN') BETWEEN 18 AND NUMERIC '24.99' AND upper(q.quest_type) = 'RI' AND q.version >= 6 AND substr(q.quest_ans, 1, 1) = '1' THEN real_risk_lvl\"\"\"\n"
   ]
  },
  {
   "cell_type": "code",
   "execution_count": null,
   "metadata": {},
   "outputs": [],
   "source": [
    "prompt_template = '''help me convert this Teradata SQL to BigQuery SQL and end with two newline:\n",
    "    {few_shot_prompt}\n",
    "    Input:\n",
    "    {qry}\n",
    "    Output:'''"
   ]
  },
  {
   "cell_type": "code",
   "execution_count": null,
   "metadata": {},
   "outputs": [],
   "source": [
    "for qry in parser.subqueries.values():\n",
    "    prompt = prompt_template.format(few_shot_prompt=few_shot_prompt,\n",
    "                                    qry=qry)\n",
    "\n",
    "    # response_text = model.generate_text(prompt)\n",
    "    # print(response_text)\n",
    "    response_text = model.generate([prompt])\n",
    "    print(\"\\nresult:\\n\\n\")\n",
    "    for resp in response_text:\n",
    "        print(resp.generated_text)"
   ]
  },
  {
   "cell_type": "code",
   "execution_count": null,
   "metadata": {},
   "outputs": [],
   "source": [
    "prompt = f'''help me convert this Teradata SQL to BigQuery SQL and end with two newline:\n",
    "{few_shot_prompt}\n",
    "Input:\n",
    "{sql}\n",
    "Output:'''\n",
    "\n",
    "# response_text = model.generate_text(prompt)\n",
    "# print(response_text)\n",
    "previous_output = \"\"\n",
    "for i in range(5):\n",
    "    prompt += previous_output\n",
    "    response_text = model.generate([prompt])\n",
    "    \n",
    "    previous_output = \"\"\n",
    "    for resp in response_text:\n",
    "        previous_output += resp.generated_text\n",
    "        print(resp.generated_text)"
   ]
  }
 ],
 "metadata": {
  "kernelspec": {
   "display_name": "Python 3",
   "language": "python",
   "name": "python3"
  },
  "language_info": {
   "codemirror_mode": {
    "name": "ipython",
    "version": 3
   },
   "file_extension": ".py",
   "mimetype": "text/x-python",
   "name": "python",
   "nbconvert_exporter": "python",
   "pygments_lexer": "ipython3",
   "version": "3.11.4"
  },
  "orig_nbformat": 4
 },
 "nbformat": 4,
 "nbformat_minor": 2
}
