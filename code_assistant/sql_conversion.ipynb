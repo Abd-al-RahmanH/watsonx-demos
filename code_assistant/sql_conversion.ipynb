{
 "cells": [
  {
   "cell_type": "markdown",
   "metadata": {},
   "source": [
    "for ibm cloud production environment"
   ]
  },
  {
   "cell_type": "code",
   "execution_count": null,
   "metadata": {},
   "outputs": [],
   "source": [
    "import dotenv\n",
    "import os\n",
    "\n",
    "from langchain.chains import LLMChain\n",
    "from langchain import PromptTemplate\n",
    "\n",
    "from genai.credentials import Credentials\n",
    "from genai.extensions.langchain import LangChainInterface\n",
    "from genai.schemas import GenerateParams\n",
    "from genai.model import Model\n",
    "\n",
    "# from ibm_watson_machine_learning.foundation_models.utils.enums import ModelTypes\n",
    "# from ibm_watson_machine_learning.foundation_models import Model\n",
    "# from ibm_watson_machine_learning.metanames import GenTextParamsMetaNames as GenParams\n",
    "# from ibm_watson_machine_learning.foundation_models.extensions.langchain import WatsonxLLM"
   ]
  },
  {
   "cell_type": "code",
   "execution_count": null,
   "metadata": {},
   "outputs": [],
   "source": [
    "dotenv.load_dotenv()\n",
    "\n",
    "api_key = os.getenv(\"GENAI_KEY\", None)\n",
    "api_endpoint = os.getenv(\"GENAI_API\", None)\n",
    "\n",
    "creds = Credentials(api_key,api_endpoint)\n",
    "\n",
    "params = GenerateParams(\n",
    "    decoding_method=\"greedy\",\n",
    "    max_new_tokens=1000,\n",
    "    min_new_tokens=15,\n",
    "    stop_sequences=['\\n\\n']\n",
    ").dict()\n",
    "\n",
    "# api_key = os.getenv(\"API_KEY\", None)\n",
    "# project_id = os.getenv(\"PROJECT_ID\", None)\n",
    "\n",
    "# creds = {\n",
    "#     \"url\"    : \"https://us-south.ml.cloud.ibm.com\",\n",
    "#     \"apikey\" : api_key\n",
    "# }\n",
    "\n",
    "# params = {\n",
    "#     GenParams.DECODING_METHOD:\"greedy\",\n",
    "#     GenParams.MAX_NEW_TOKENS:1000,\n",
    "#     GenParams.MIN_NEW_TOKENS:15\n",
    "# }"
   ]
  },
  {
   "cell_type": "code",
   "execution_count": null,
   "metadata": {},
   "outputs": [],
   "source": [
    "# model = Model(ModelTypes.LLAMA_2_70B_CHAT,creds,params,project_id)\n",
    "# model = Model(model=\"codellama/codellama-34b-instruct\",credentials=creds, params=params)\n",
    "model = Model(model=\"bigcode/starcoder\",credentials=creds, params=params)\n",
    "    "
   ]
  },
  {
   "cell_type": "code",
   "execution_count": null,
   "metadata": {},
   "outputs": [],
   "source": [
    "file = open(\"sample.sql\", \"r\")\n",
    "sql = file.readlines()\n",
    "\n",
    "file = open(\"sample_translated.sql\", \"r\")\n",
    "sql_translated = file.readlines()"
   ]
  },
  {
   "cell_type": "code",
   "execution_count": null,
   "metadata": {},
   "outputs": [],
   "source": [
    "from sql_metadata import Parser\n",
    "\n",
    "parser = Parser(''.join(sql_translated))\n",
    "for qry in parser.subqueries.values():\n",
    "    print(f\"subquery- {qry}\")"
   ]
  },
  {
   "cell_type": "code",
   "execution_count": null,
   "metadata": {},
   "outputs": [],
   "source": [
    "few_shot_prompt = f\"\"\"Input:\n",
    "sel dtab1\n",
    "Output:\n",
    "SELECT dtab1\n",
    "Input:                                                \n",
    "when PI_Warning = 'Y' then 'Y'\n",
    "Output:\n",
    "WHEN upper(dtabw.pi_warning) = 'Y' THEN 'Y'\n",
    "Input:\n",
    "when PI_Warning is null then null else 'N' end  \"Professional_Investor\"\n",
    "Output:\n",
    "WHEN dtabw.pi_warning IS NULL THEN CAST(NULL as STRING) ELSE 'N' END AS professional_investor\n",
    "Input:\n",
    "when q.sign_dte <= add_months(date '?Month_End_Dte', -12) then 'E'                                         \n",
    "Output:\n",
    "WHEN q.sign_dte <= date_add(DATE '?Month_End_Dte', interval -12 MONTH) THEN 'E'\n",
    "Input:\n",
    "when (date '?Month_End_Dte'-dte_of_birth_incorporation)/365.25 between 18 and 24.99 and quest_type = 'RI' and version >= 6 and substr(q.quest_ans, 1,1) = '1' then real_risk_lvl\n",
    "Output:\n",
    "WHEN ROUND(date_diff(DATE '?Month_End_Dte', q.dte_of_birth_incorporation, DAY) / NUMERIC '365.25', 2, 'ROUND_HALF_EVEN') BETWEEN 18 AND NUMERIC '24.99' AND upper(q.quest_type) = 'RI' AND q.version >= 6 AND substr(q.quest_ans, 1, 1) = '1' THEN real_risk_lvl\"\"\"\n"
   ]
  },
  {
   "cell_type": "code",
   "execution_count": null,
   "metadata": {},
   "outputs": [],
   "source": [
    "prompt_template = '''help me convert this Teradata SQL to BigQuery SQL and end with two newline:\n",
    "    {few_shot_prompt}\n",
    "    Input:\n",
    "    {qry}\n",
    "    Output:'''"
   ]
  },
  {
   "cell_type": "code",
   "execution_count": null,
   "metadata": {},
   "outputs": [],
   "source": [
    "for qry in parser.subqueries.values():\n",
    "    prompt = prompt_template.format(few_shot_prompt=few_shot_prompt,\n",
    "                                    qry=qry)\n",
    "\n",
    "    # response_text = model.generate_text(prompt)\n",
    "    # print(response_text)\n",
    "    response_text = model.generate([prompt])\n",
    "    print(\"\\nresult:\\n\\n\")\n",
    "    for resp in response_text:\n",
    "        print(resp.generated_text)"
   ]
  },
  {
   "cell_type": "code",
   "execution_count": null,
   "metadata": {},
   "outputs": [],
   "source": [
    "prompt = f'''help me convert this Teradata SQL to BigQuery SQL and end with two newline:\n",
    "{few_shot_prompt}\n",
    "Input:\n",
    "{sql}\n",
    "Output:'''\n",
    "\n",
    "# response_text = model.generate_text(prompt)\n",
    "# print(response_text)\n",
    "previous_output = \"\"\n",
    "for i in range(5):\n",
    "    prompt += previous_output\n",
    "    response_text = model.generate([prompt])\n",
    "    \n",
    "    previous_output = \"\"\n",
    "    for resp in response_text:\n",
    "        previous_output += resp.generated_text\n",
    "        print(resp.generated_text)"
   ]
  }
 ],
 "metadata": {
  "kernelspec": {
   "display_name": "Python 3",
   "language": "python",
   "name": "python3"
  },
  "language_info": {
   "codemirror_mode": {
    "name": "ipython",
    "version": 3
   },
   "file_extension": ".py",
   "mimetype": "text/x-python",
   "name": "python",
   "nbconvert_exporter": "python",
   "pygments_lexer": "ipython3",
   "version": "3.11.4"
  },
  "orig_nbformat": 4
 },
 "nbformat": 4,
 "nbformat_minor": 2
}
