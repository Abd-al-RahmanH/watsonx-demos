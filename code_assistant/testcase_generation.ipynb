{
 "cells": [
  {
   "cell_type": "code",
   "execution_count": null,
   "metadata": {},
   "outputs": [],
   "source": [
    "import dotenv\n",
    "import os\n",
    "\n",
    "from ibm_watson_machine_learning.foundation_models.utils.enums import ModelTypes\n",
    "from ibm_watson_machine_learning.foundation_models import Model\n",
    "from ibm_watson_machine_learning.metanames import GenTextParamsMetaNames as GenParams\n",
    "from ibm_watson_machine_learning.foundation_models.extensions.langchain import WatsonxLLM"
   ]
  },
  {
   "cell_type": "code",
   "execution_count": null,
   "metadata": {},
   "outputs": [],
   "source": [
    "dotenv.load_dotenv()\n",
    "\n",
    "api_key = os.getenv(\"API_KEY\", None)\n",
    "project_id = os.getenv(\"PROJECT_ID\", None)\n",
    "\n",
    "creds = {\n",
    "    \"url\"    : \"https://us-south.ml.cloud.ibm.com\",\n",
    "    \"apikey\" : api_key\n",
    "}\n",
    "\n",
    "params = {\n",
    "    GenParams.DECODING_METHOD:\"greedy\",\n",
    "    GenParams.MAX_NEW_TOKENS:500,\n",
    "    GenParams.MIN_NEW_TOKENS:15,\n",
    "    GenParams.STOP_SEQUENCES: ['Human:']\n",
    "}"
   ]
  },
  {
   "cell_type": "code",
   "execution_count": null,
   "metadata": {},
   "outputs": [],
   "source": [
    "model = Model(ModelTypes.MPT_7B_INSTRUCT2,creds,params,project_id)"
   ]
  },
  {
   "cell_type": "code",
   "execution_count": null,
   "metadata": {},
   "outputs": [],
   "source": [
    "javacode = '''import java.util.*;\n",
    "\n",
    "public class Main {\n",
    "\n",
    "    public static void main(String[] args) {\n",
    "        Scanner in = new Scanner(System.in);\n",
    "        int n = in.nextInt();\n",
    "        int[] a = new int[n];\n",
    "        for(int a_i=0; a_i < n; a_i++){\n",
    "            a[a_i] = in.nextInt();\n",
    "        }\n",
    "        int result = solve(n, a);\n",
    "        System.out.println(result);\n",
    "    }\n",
    "\n",
    "    public static int solve(int n, int[] a) {\n",
    "        int max = 0;\n",
    "        for(int i = 0; i < n; i++){\n",
    "            for(int j = i+1; j < n; j++){\n",
    "                if(a[i] > a[j]){\n",
    "                    int temp = a[i];\n",
    "                    a[i] = a[j];\n",
    "                    a[j] = temp;\n",
    "                }\n",
    "            }\n",
    "        }\n",
    "        for(int i = 0; i < n; i++){\n",
    "            if(a[i] > max){\n",
    "                max = a[i];\n",
    "            }\n",
    "        }\n",
    "        return max;\n",
    "    }\n",
    "}'''"
   ]
  },
  {
   "cell_type": "code",
   "execution_count": null,
   "metadata": {},
   "outputs": [],
   "source": [
    "prompt = f'''you are a java programmer, help me generate java testcase for following java code in backstrikes:\n",
    "\n",
    "java:```\n",
    "{javacode}\n",
    "```\n",
    "\n",
    "Testcase:'''"
   ]
  },
  {
   "cell_type": "code",
   "execution_count": null,
   "metadata": {},
   "outputs": [],
   "source": [
    "response_text = model.generate_text(prompt)\n",
    "\n",
    "print(response_text)"
   ]
  }
 ],
 "metadata": {
  "kernelspec": {
   "display_name": "Python 3",
   "language": "python",
   "name": "python3"
  },
  "language_info": {
   "codemirror_mode": {
    "name": "ipython",
    "version": 3
   },
   "file_extension": ".py",
   "mimetype": "text/x-python",
   "name": "python",
   "nbconvert_exporter": "python",
   "pygments_lexer": "ipython3",
   "version": "3.11.4"
  },
  "orig_nbformat": 4
 },
 "nbformat": 4,
 "nbformat_minor": 2
}
