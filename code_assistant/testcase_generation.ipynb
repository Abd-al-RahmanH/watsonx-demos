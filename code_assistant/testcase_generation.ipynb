{
 "cells": [
  {
   "cell_type": "code",
   "execution_count": 10,
   "metadata": {},
   "outputs": [],
   "source": [
    "import dotenv\n",
    "import os\n",
    "\n",
    "from ibm_watson_machine_learning.foundation_models.utils.enums import ModelTypes\n",
    "from ibm_watson_machine_learning.foundation_models import Model\n",
    "from ibm_watson_machine_learning.metanames import GenTextParamsMetaNames as GenParams\n",
    "from ibm_watson_machine_learning.foundation_models.extensions.langchain import WatsonxLLM"
   ]
  },
  {
   "cell_type": "code",
   "execution_count": 11,
   "metadata": {},
   "outputs": [],
   "source": [
    "dotenv.load_dotenv()\n",
    "\n",
    "api_key = os.getenv(\"API_KEY\", None)\n",
    "project_id = os.getenv(\"PROJECT_ID\", None)\n",
    "\n",
    "creds = {\n",
    "    \"url\"    : \"https://us-south.ml.cloud.ibm.com\",\n",
    "    \"apikey\" : api_key\n",
    "}\n",
    "\n",
    "params = {\n",
    "    GenParams.DECODING_METHOD:\"greedy\",\n",
    "    GenParams.MAX_NEW_TOKENS:500,\n",
    "    GenParams.MIN_NEW_TOKENS:15,\n",
    "    GenParams.STOP_SEQUENCES: ['Human:']\n",
    "}"
   ]
  },
  {
   "cell_type": "code",
   "execution_count": 20,
   "metadata": {},
   "outputs": [],
   "source": [
    "model = Model(ModelTypes.LLAMA_2_70B_CHAT,creds,params,project_id)"
   ]
  },
  {
   "cell_type": "code",
   "execution_count": 21,
   "metadata": {},
   "outputs": [],
   "source": [
    "javacode = '''import java.util.*;\n",
    "\n",
    "public class Main {\n",
    "\n",
    "    public static void main(String[] args) {\n",
    "        Scanner in = new Scanner(System.in);\n",
    "        int n = in.nextInt();\n",
    "        int[] a = new int[n];\n",
    "        for(int a_i=0; a_i < n; a_i++){\n",
    "            a[a_i] = in.nextInt();\n",
    "        }\n",
    "        int result = solve(n, a);\n",
    "        System.out.println(result);\n",
    "    }\n",
    "\n",
    "    public static int solve(int n, int[] a) {\n",
    "        int max = 0;\n",
    "        for(int i = 0; i < n; i++){\n",
    "            for(int j = i+1; j < n; j++){\n",
    "                if(a[i] > a[j]){\n",
    "                    int temp = a[i];\n",
    "                    a[i] = a[j];\n",
    "                    a[j] = temp;\n",
    "                }\n",
    "            }\n",
    "        }\n",
    "        for(int i = 0; i < n; i++){\n",
    "            if(a[i] > max){\n",
    "                max = a[i];\n",
    "            }\n",
    "        }\n",
    "        return max;\n",
    "    }\n",
    "}'''"
   ]
  },
  {
   "cell_type": "code",
   "execution_count": 26,
   "metadata": {},
   "outputs": [],
   "source": [
    "prompt = f'''YOU: you are a java programmer, help me generate junit testcase for following java code in backstrikes:\n",
    "\n",
    "java:```\n",
    "{javacode}\n",
    "```\n",
    "\n",
    "AGENT:\n",
    "Testcase:'''"
   ]
  },
  {
   "cell_type": "code",
   "execution_count": 27,
   "metadata": {},
   "outputs": [
    {
     "name": "stdout",
     "output_type": "stream",
     "text": [
      "\n",
      "\n",
      "1. Test that the `solve` method returns the maximum value in the input array.\n",
      "2. Test that the `solve` method swaps adjacent elements in the input array if the first element is greater than the second element.\n",
      "3. Test that the `solve` method does not modify the input array if the first element is less than or equal to the second element.\n",
      "4. Test that the `solve` method returns the correct result when the input array contains duplicate values.\n",
      "5. Test that the `solve` method returns the correct result when the input array contains negative values.\n",
      "6. Test that the `solve` method returns the correct result when the input array contains a mix of positive and negative values.\n",
      "7. Test that the `solve` method returns the correct result when the input array is empty.\n",
      "8. Test that the `solve` method throws an exception when the input array is null.\n",
      "9. Test that the `solve` method throws an exception when the input array has a negative size.\n",
      "10. Test that the `solve` method returns the correct result when the input array contains a large number of elements.\n",
      "\n",
      "Here are some sample test cases for the `solve` method:\n",
      "```\n",
      "public void testSolve() {\n",
      "    int[] a = {1, 2, 3, 4, 5};\n",
      "    assertEquals(5, solve(5, a));\n",
      "}\n",
      "\n",
      "public void testSolveSwap() {\n",
      "    int[] a = {2, 1, 3, 4, 5};\n",
      "    solve(5, a);\n",
      "    assertEquals(1, a[0]);\n",
      "    assertEquals(2, a[1]);\n",
      "    assertEquals(3, a[2]);\n",
      "    assertEquals(4, a[3]);\n",
      "    assertEquals(5, a[4]);\n",
      "}\n",
      "\n",
      "public void testSolveNoSwap() {\n",
      "    int[] a = {1, 2, 3, 4, 5};\n",
      "    solve(5, a);\n",
      "    assertEquals(1, a[0]);\n",
      "    assertEquals(2, a[1]);\n",
      "    assertEquals(3, a[2]);\n",
      "    assertEquals(4, a[3]);\n",
      "    assertEquals(5,\n"
     ]
    }
   ],
   "source": [
    "response_text = model.generate_text(prompt)\n",
    "\n",
    "print(response_text)"
   ]
  }
 ],
 "metadata": {
  "kernelspec": {
   "display_name": "Python 3",
   "language": "python",
   "name": "python3"
  },
  "language_info": {
   "codemirror_mode": {
    "name": "ipython",
    "version": 3
   },
   "file_extension": ".py",
   "mimetype": "text/x-python",
   "name": "python",
   "nbconvert_exporter": "python",
   "pygments_lexer": "ipython3",
   "version": "3.11.4"
  },
  "orig_nbformat": 4
 },
 "nbformat": 4,
 "nbformat_minor": 2
}
