{
 "cells": [
  {
   "cell_type": "code",
   "execution_count": null,
   "metadata": {},
   "outputs": [],
   "source": [
    "import dotenv\n",
    "import os\n",
    "\n",
    "from genai.credentials import Credentials\n",
    "from genai.schemas import GenerateParams\n",
    "from genai.model import Model"
   ]
  },
  {
   "cell_type": "code",
   "execution_count": null,
   "metadata": {},
   "outputs": [],
   "source": [
    "dotenv.load_dotenv()\n",
    "\n",
    "api_key = os.getenv(\"GENAI_KEY\", None)\n",
    "api_endpoint = os.getenv(\"GENAI_API\", None)\n",
    "\n",
    "creds = Credentials(api_key,api_endpoint)\n",
    "\n",
    "params = GenerateParams(\n",
    "    decoding_method=\"greedy\",\n",
    "    max_new_tokens=1000,\n",
    "    min_new_tokens=15,\n",
    "    stop_sequences=['###']\n",
    ").dict()\n",
    "\n",
    "model = Model(model=\"bigcode/starcoder\",credentials=creds, params=params)\n",
    "# model = Model(model=\"codellama/codellama-34b-instruct\",credentials=creds, params=params)"
   ]
  },
  {
   "cell_type": "code",
   "execution_count": null,
   "metadata": {},
   "outputs": [],
   "source": [
    "filename = \"\"\"cls_rec15_2023092802.csv\n",
    "\"\"\"\n",
    "\n",
    "samplein = \"\"\"15||7000000001|FF|70001@gmail.com|AB||Y|HTML|Y|20230928123456\n",
    "\"\"\"\n",
    "\n",
    "sampleout = \"\"\"|CLS|2023-09-28 02:00:00|2023-09-28 00:00:00|af_ioda_cus_daily_cls_mini_batch.CUSCLSMiniBatchTransformer|airflow||D|0|cls_rec15_2023092802.csv|15||7000000001|FF|70001@gmail.com|AB||Y|HTML|Y|2023-09-28 12:34:56\n",
    "\"\"\"\n",
    "\n",
    "csv = \"\"\"00ABC-MKTS202309280230082023092720200520230928023005\n",
    "15||7000000001|FF|70001@gmail.com|AB||Y|HTML|Y|20230928123456\n",
    "15||7000000002|FF|70002@gmail.com|AB||Y|HTML|Y|20230928123456\n",
    "15||7000000003|FF|70003@gmail.com|AB||Y|HTML|Y|20230928123456\n",
    "15||7000000004|FF|70004@gmail.com|AB||Y|HTML|Y|20230928123456\n",
    "15||7000000005|FF|70005@gmail.com|AB||Y|HTML|Y|20230928123456\n",
    "15||7000000006|FF|70006@gmail.com|AB||Y|HTML|Y|20230928123456\n",
    "15||7000000007|FF|70007@gmail.com|AB||Y|HTML|Y|20230928123456\n",
    "15||7000000008|FF|70008@gmail.com|AB||Y|HTML|Y|20230928123456\n",
    "990000000008\"\"\""
   ]
  },
  {
   "cell_type": "code",
   "execution_count": null,
   "metadata": {},
   "outputs": [],
   "source": [
    "prompt = f'''convert this csv to csv, show the result only, and end with ###:\n",
    "FILENAME:\n",
    "{filename}\n",
    "INPUT:\n",
    "{samplein}\n",
    "OUTPUT:\n",
    "{sampleout}\n",
    "INPUT:\n",
    "{csv}\n",
    "OUTPUT:'''"
   ]
  },
  {
   "cell_type": "code",
   "execution_count": null,
   "metadata": {},
   "outputs": [],
   "source": [
    "response_text = model.generate([prompt])\n",
    "print(\"\\nresult:\\n\\n\")\n",
    "for resp in response_text:\n",
    "    print(resp.generated_text)"
   ]
  },
  {
   "cell_type": "markdown",
   "metadata": {},
   "source": [
    "generate python code"
   ]
  },
  {
   "cell_type": "code",
   "execution_count": null,
   "metadata": {},
   "outputs": [],
   "source": [
    "prompt = f'''generate a python function that convert input csv to output csv, show the result only, end with ###:\n",
    "FILENAME:\n",
    "{filename}\n",
    "Data INPUT:\n",
    "{samplein}\n",
    "Data OUTPUT:\n",
    "{sampleout}\n",
    "PYTHON:'''\n",
    "\n",
    "response_text = model.generate([prompt])\n",
    "print(\"\\nresult:\\n\\n\")\n",
    "for resp in response_text:\n",
    "    print(resp.generated_text)"
   ]
  },
  {
   "cell_type": "code",
   "execution_count": null,
   "metadata": {},
   "outputs": [],
   "source": [
    "filename = \"\"\"wos_hawb_20220513.dat\"\"\"\n",
    "\n",
    "samplein = \"\"\"AB,1234,1234567,09-Apr-2023,HKG,CHN,ABCD123456,09-Apr-2023 12:34:56,AB,1234,09-Apr-2023,HKG,CHN,1,21.0,K,,,,,,,,ABCDEFG,ABCDEFG.,,,,,ABCDEFG,,330457,HK,,ABCDEFG,ABCDEFG,,,,,ABCDEFG,,1920,ID,,ABCDEFG,ABCDEFG,,,,,,,,,,,\n",
    "\"\"\"\n",
    "\n",
    "sampleout = \"\"\"\"\"|\"WOS\"|\"2022-05-13\"|\"2022-05-13 15:47:48\"|\"af_ioda_cgo_wos_daily_wos_hawb.CGOTransformer_WOS_HAWB\"|\"ioda_cgo\"|\"\"|\"D\"|\"0\"|\"wos_hawb_20220513.dat\"|\"AB\"|\"1234\"|\"1234567\"|\"2023-04-09\"|\"HKG\"|\"CHN\"|\"ABCD123456\"|\"2023-04-09 12:34:56\"|\"AB\"|\"1234\"|\"2023-04-09\"|\"HKG\"|\"CHN\"|\"1\"|\"21.0\"|\"K\"|\"\"|\"\"|\"\"|\"\"|\"\"|\"\"|\"\"|\"ABCDEFG\"|\"ABCDEFG.\"|\"\"|\"\"|\"\"|\"\"|\"ABCDEFG\"|\"\"|\"330457\"|\"HK\"|\"\"|\"ABCDEFG\"|\"ABCDEFG\"|\"\"|\"\"|\"\"|\"\"|\"ABCDEFG\"|\"\"|\"1920\"|\"ID\"|\"\"|\"ABCDEFG\"|\"ABCDEFG\"|\"\"|\"\"|\"\"|\"\"|\"\"|\"\"|\"\"|\"\"|\"\"|\"\"|\"\n",
    "\"\"\"\n",
    "\n",
    "dat = \"\"\"MAWB Issuing Carrier,Airline Prefix,Shipment Ref Number,MAWB Issue Date,MAWB Origin,MAWB Destination,HWB No,HWB Last Update DT,Carrier Code,Flight No,Flight Origin Date,HWB Origin,HWB Destination,HWB PCS,HAWB WT,HWB Weight Unit Code,SLAC,Other Prepaid or Collect,WTVAL Prepaid or Collect,Carriage Declared Value,Customs Declared Value,The currency for declare values of carriage/customs/insurance,Insurance Amount,Shipper Name,Shipper Address 1,Shipper Address 2,Shipper Address 3,Shipper Address 4,Shipper Address 5,Shipper Place,Shipper City,Shipper Postal Code,Shipper Country Code,Shipper Contact,Consignee Name,Consignee Address 1,Consignee Address 2,Consignee Address 3,Consignee Address 4,Consignee Address 5,Consignee Place,Consignee City,Consignee Postal Code,Consignee Country Code,Consignee Contact,Goods desc of the HWB-15 chars,Goods desc of the HWB manifest,Info for customs declaration,harmonized commodity code,FHL SHC1,FHL SHC2,FHL SHC3,FHL SHC4,FHL SHC5,FHL SHC6,FHL SHC7,FHL SHC8,FHL SHC9\n",
    "AB,1234,1234567,09-Apr-2023,HKG,CHN,ABCD123456,09-Apr-2023 12:34:56,AB,1234,09-Apr-2023,HKG,CHN,1,21.0,K,,,,,,,,ABCDEFG,ABCDEFG.,,,,,ABCDEFG,,330457,HK,,ABCDEFG,ABCDEFG,,,,,ABCDEFG,,1920,ID,,ABCDEFG,ABCDEFG,,,,,,,,,,,\n",
    "AB,1223,1234567,09-Apr-2023,HKG,CHN,ABCD123456,09-Apr-2023 12:34:56,AB,1234,09-Apr-2023,HKG,CHN,1,21.0,K,,,,,,,,ABCDEFG,ABCDEFG.,,,,,ABCDEFG,,330457,HK,,ABCDEFG,ABCDEFG,,,,,ABCDEFG,,1920,ID,,ABCDEFG,ABCDEFG,,,,,,,,,,,\n",
    "\"\"\""
   ]
  },
  {
   "cell_type": "code",
   "execution_count": null,
   "metadata": {},
   "outputs": [],
   "source": [
    "prompt = f'''convert this dat to csv, show the result only, end with ###:\n",
    "FILENAME:\n",
    "{filename}\n",
    "INPUT:\n",
    "{samplein}\n",
    "OUTPUT:\n",
    "{sampleout}\n",
    "INPUT:\n",
    "{dat}\n",
    "OUTPUT:'''"
   ]
  },
  {
   "cell_type": "code",
   "execution_count": null,
   "metadata": {},
   "outputs": [],
   "source": [
    "response_text = model.generate([prompt])\n",
    "print(\"\\nresult:\\n\\n\")\n",
    "for resp in response_text:\n",
    "    print(resp.generated_text)"
   ]
  },
  {
   "cell_type": "markdown",
   "metadata": {},
   "source": [
    "generate python code"
   ]
  },
  {
   "cell_type": "code",
   "execution_count": null,
   "metadata": {},
   "outputs": [],
   "source": [
    "prompt = f'''generate a python function that convert input csv to output csv, show the result only, end with ###:\n",
    "FILENAME:\n",
    "{filename}\n",
    "Data INPUT:\n",
    "{samplein}\n",
    "Data OUTPUT:\n",
    "{sampleout}\n",
    "PYTHON:'''\n",
    "\n",
    "response_text = model.generate([prompt])\n",
    "print(\"\\nresult:\\n\\n\")\n",
    "for resp in response_text:\n",
    "    print(resp.generated_text)"
   ]
  },
  {
   "cell_type": "code",
   "execution_count": null,
   "metadata": {},
   "outputs": [],
   "source": [
    "filename = \"\"\"categorymstdata_20230928_ioda.xml\"\"\"\n",
    "\n",
    "samplein = \"\"\"<Category>\n",
    "      <supercategories>\n",
    "         <Category>\n",
    "            <code>level_1</code>\n",
    "            <name>Electronics</name>\n",
    "            <creationDateTime>2023-09-28T00:00:00.000</creationDateTime>\n",
    "            <modifiedDateTime>2023-09-28T00:00:00.000</modifiedDateTime>\n",
    "            <businessPoint/>\n",
    "         </Category>\n",
    "      </supercategories>\n",
    "      <code>level_2</code>\n",
    "      <name>Camera & Photo</name>\n",
    "      <creationDateTime>2023-09-28T00:00:00.000</creationDateTime>\n",
    "      <modifiedDateTime>2023-09-28T00:00:00.000</modifiedDateTime>\n",
    "      <businessPoint/>\n",
    "   </Category>\n",
    "   \"\"\"\n",
    "\n",
    "sampleout = \"\"\"\n",
    "\"\"|\"IRedeem\"|\"2023-09-28 00:00:00\"|\"2023-09-28 00:00:00\"|\"af_ioda_cus_iredeem_daily_transaction_log.CUSIRedeemDailyTransactionLogTransformer\"|\"airflow\"|\"\"|\"D\"|\"0\"|\"categorymstdata_20230928_ioda.xml\"|\"level_2\"|\"Camera & Photo\"|\"2023-09-28 00:00:00\"|\"2023-09-28 00:00:00\"|\"\"|\"level_1\"|\"Electronics\"|\"2023-09-28 00:00:00\"|\"2023-09-28 00:00:00\"|\"\"|\"\"|\"\"|\"\"|\"\"|\"\"|\"\"|\"\"|\"\"|\"\"|\"\"|\"\"|\"\"|\"\"|\"\"|\"\"\n",
    "\n",
    "\"\"\"\n",
    "\n",
    "xml = \"\"\"<?xml version=\"1.0\" encoding=\"UTF-8\"?>\n",
    "<Categories xmlns:xs=\"http://www.w3.org/2001/XMLSchema\">\n",
    "   <Category>\n",
    "      <supercategories>\n",
    "         <Category>\n",
    "            <code>level_1</code>\n",
    "            <name>Electronics</name>\n",
    "            <creationDateTime>2023-09-28T00:00:00.000</creationDateTime>\n",
    "            <modifiedDateTime>2023-09-28T00:00:00.000</modifiedDateTime>\n",
    "            <businessPoint/>\n",
    "         </Category>\n",
    "      </supercategories>\n",
    "      <code>level_2</code>\n",
    "      <name>Camera & Photo</name>\n",
    "      <creationDateTime>2023-09-28T00:00:00.000</creationDateTime>\n",
    "      <modifiedDateTime>2023-09-28T00:00:00.000</modifiedDateTime>\n",
    "      <businessPoint/>\n",
    "   </Category>\n",
    "   <Category>\n",
    "      <supercategories>\n",
    "         <Category>\n",
    "            <supercategories>\n",
    "               <Category>\n",
    "                  <code>level_1</code>\n",
    "                  <name>Electronics</name>\n",
    "                  <creationDateTime>2023-09-28T00:00:00.000</creationDateTime>\n",
    "                  <modifiedDateTime>2023-09-28T00:00:00.000</modifiedDateTime>\n",
    "                  <businessPoint/>\n",
    "               </Category>\n",
    "            </supercategories>\n",
    "            <code>level_2</code>\n",
    "            <name>Camera & Photo</name>\n",
    "            <creationDateTime>2023-09-28T00:00:00.000</creationDateTime>\n",
    "            <modifiedDateTime>2023-09-28T00:00:00.000</modifiedDateTime>\n",
    "            <businessPoint/>\n",
    "         </Category>\n",
    "      </supercategories>\n",
    "      <code>level_3</code>\n",
    "      <name>Camera Bags & Cases</name>\n",
    "      <creationDateTime>2023-09-28T00:00:00.000</creationDateTime>\n",
    "      <modifiedDateTime>2023-09-28T00:00:00.000</modifiedDateTime>\n",
    "      <businessPoint/>\n",
    "   </Category>\n",
    "   <Category>\n",
    "      <supercategories>\n",
    "         <Category>\n",
    "            <supercategories>\n",
    "               <Category>\n",
    "                  <supercategories>\n",
    "                     <Category>\n",
    "                        <code>level_1</code>\n",
    "                        <name>Electronics</name>\n",
    "                        <creationDateTime>2023-09-28T00:00:00.000</creationDateTime>\n",
    "                        <modifiedDateTime>2023-09-28T00:00:00.000</modifiedDateTime>\n",
    "                        <businessPoint/>\n",
    "                     </Category>\n",
    "                  </supercategories>\n",
    "                  <code>level_2</code>\n",
    "                  <name>Camera & Photo</name>\n",
    "                  <creationDateTime>2023-09-28T00:00:00.000</creationDateTime>\n",
    "                  <modifiedDateTime>2023-09-28T00:00:00.000</modifiedDateTime>\n",
    "                  <businessPoint/>\n",
    "               </Category>\n",
    "            </supercategories>\n",
    "            <code>level_3</code>\n",
    "            <name>Camera Bags & Cases</name>\n",
    "            <creationDateTime>2023-09-28T00:00:00.000</creationDateTime>\n",
    "            <modifiedDateTime>2023-09-28T00:00:00.000</modifiedDateTime>\n",
    "            <businessPoint/>\n",
    "         </Category>\n",
    "      </supercategories>\n",
    "      <code>level_4</code>\n",
    "      <name>Camera Cases</name>\n",
    "      <creationDateTime>2023-09-28T00:00:00.000</creationDateTime>\n",
    "      <modifiedDateTime>2023-09-28T00:00:00.000</modifiedDateTime>\n",
    "      <businessPoint/>\n",
    "   </Category>\n",
    "</Categories>\"\"\""
   ]
  },
  {
   "cell_type": "code",
   "execution_count": null,
   "metadata": {},
   "outputs": [],
   "source": [
    "prompt = f'''convert this xml to csv, show the result only, end with ###:\n",
    "FILENAME:\n",
    "{filename}\n",
    "Data INPUT:\n",
    "{samplein}\n",
    "Data OUTPUT:\n",
    "{sampleout}\n",
    "INPUT:\n",
    "{xml}\n",
    "OUTPUT:'''"
   ]
  },
  {
   "cell_type": "code",
   "execution_count": null,
   "metadata": {},
   "outputs": [],
   "source": [
    "response_text = model.generate([prompt])\n",
    "print(\"\\nresult:\\n\\n\")\n",
    "for resp in response_text:\n",
    "    print(resp.generated_text)"
   ]
  },
  {
   "cell_type": "markdown",
   "metadata": {},
   "source": [
    "generate python code"
   ]
  },
  {
   "cell_type": "code",
   "execution_count": null,
   "metadata": {},
   "outputs": [],
   "source": [
    "prompt = f'''generate a python function that convert input xml to output csv, show the result only, end with ###:\n",
    "FILENAME:\n",
    "{filename}\n",
    "Data INPUT:\n",
    "{samplein}\n",
    "Data OUTPUT:\n",
    "{sampleout}\n",
    "PYTHON:'''\n",
    "\n",
    "# response_text = model.generate([prompt])\n",
    "print(\"\\nresult:\\n\\n\")\n",
    "# for resp in response_text:\n",
    "#     print(resp.generated_text)\n",
    "\n",
    "previous_output = \"\"\n",
    "for i in range(5):\n",
    "    prompt += previous_output\n",
    "    response_text = model.generate([prompt])\n",
    "    \n",
    "    previous_output = \"\"\n",
    "    for resp in response_text:\n",
    "        previous_output += resp.generated_text\n",
    "        print(resp.generated_text)"
   ]
  }
 ],
 "metadata": {
  "kernelspec": {
   "display_name": "Python 3",
   "language": "python",
   "name": "python3"
  },
  "language_info": {
   "codemirror_mode": {
    "name": "ipython",
    "version": 3
   },
   "file_extension": ".py",
   "mimetype": "text/x-python",
   "name": "python",
   "nbconvert_exporter": "python",
   "pygments_lexer": "ipython3",
   "version": "3.11.4"
  },
  "orig_nbformat": 4
 },
 "nbformat": 4,
 "nbformat_minor": 2
}
