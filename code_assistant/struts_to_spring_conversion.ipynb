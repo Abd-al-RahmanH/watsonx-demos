{
 "cells": [
  {
   "cell_type": "markdown",
   "metadata": {},
   "source": [
    "for ibm cloud production environment"
   ]
  },
  {
   "cell_type": "code",
   "execution_count": null,
   "metadata": {},
   "outputs": [],
   "source": [
    "import dotenv\n",
    "import os\n",
    "\n",
    "from ibm_watson_machine_learning.foundation_models.utils.enums import ModelTypes\n",
    "from ibm_watson_machine_learning.foundation_models import Model\n",
    "from ibm_watson_machine_learning.metanames import GenTextParamsMetaNames as GenParams\n",
    "from ibm_watson_machine_learning.foundation_models.extensions.langchain import WatsonxLLM"
   ]
  },
  {
   "cell_type": "code",
   "execution_count": null,
   "metadata": {},
   "outputs": [],
   "source": [
    "dotenv.load_dotenv()\n",
    "\n",
    "api_key = os.getenv(\"API_KEY\", None)\n",
    "project_id = os.getenv(\"PROJECT_ID\", None)\n",
    "\n",
    "creds = {\n",
    "    \"url\"    : \"https://us-south.ml.cloud.ibm.com\",\n",
    "    \"apikey\" : api_key\n",
    "}\n",
    "\n",
    "params = {\n",
    "    GenParams.DECODING_METHOD:\"greedy\",\n",
    "    GenParams.MAX_NEW_TOKENS:1000,\n",
    "    GenParams.MIN_NEW_TOKENS:15,\n",
    "    GenParams.REPETITION_PENALTY:1,\n",
    "}"
   ]
  },
  {
   "cell_type": "code",
   "execution_count": null,
   "metadata": {},
   "outputs": [],
   "source": [
    "model = Model(ModelTypes.STARCODER,creds,params,project_id)"
   ]
  },
  {
   "cell_type": "markdown",
   "metadata": {},
   "source": [
    "Step 2: Change made to web.xml file for struts to spring migration"
   ]
  },
  {
   "cell_type": "code",
   "execution_count": null,
   "metadata": {},
   "outputs": [],
   "source": [
    "strutsxml = '''<?xml version=\"1.0\" encoding=\"UTF-8\"?>\n",
    "<web-app xmlns:xsi=\"http://www.w3.org/2001/XMLSchema-instance\" xmlns=\"http://java.sun.com/xml/ns/javaee\" xmlns:web=\"http://java.sun.com/xml/ns/javaee/web-app_2_5.xsd\" xsi:schemaLocation=\"http://java.sun.com/xml/ns/javaee http://java.sun.com/xml/ns/javaee/web-app_3_0.xsd\" id=\"WebApp_ID\" version=\"3.0\">\n",
    "<display-name>Struts2MyFirstApp</display-name>\n",
    "<filter>\n",
    "<filter-name>struts2</filter-name>\n",
    "<filter-class>\n",
    "org.apache.struts2.dispatcher.FilterDispatcher\n",
    "</filter-class>\n",
    "</filter>\n",
    "<filter-mapping>\n",
    "<filter-name>struts2</filter-name>\n",
    "<url-pattern>/*</url-pattern>\n",
    "</filter-mapping>\n",
    "<welcome-file-list>\n",
    "<welcome-file>Login.jsp</welcome-file>\n",
    "</welcome-file-list>\n",
    "</web-app>\n",
    "'''"
   ]
  },
  {
   "cell_type": "code",
   "execution_count": null,
   "metadata": {},
   "outputs": [],
   "source": [
    "prompt = f'''help me convert this struts config to springboot config:\n",
    "Struts Config:\n",
    "{strutsxml}\n",
    "Springboot Config:'''"
   ]
  },
  {
   "cell_type": "code",
   "execution_count": null,
   "metadata": {},
   "outputs": [],
   "source": [
    "response_text = model.generate_text(prompt)\n",
    "\n",
    "print(response_text)"
   ]
  },
  {
   "cell_type": "markdown",
   "metadata": {},
   "source": [
    "Step 3: Replace config files for struts to spring migration"
   ]
  },
  {
   "cell_type": "code",
   "execution_count": null,
   "metadata": {},
   "outputs": [],
   "source": [
    "strutsxml = '''<?xml version=\"1.0\" encoding=\"UTF-8\" ?>\n",
    "<!DOCTYPE struts PUBLIC\n",
    "\"-//Apache Software Foundation//DTD Struts Configuration 2.0//EN\"\n",
    "\"http://struts.apache.org/dtds/struts-2.0.dtd\">\n",
    "<struts>\n",
    "<constant name=\"struts.enable.DynamicMethodInvocation\" value=\"false\" />\n",
    "<constant name=\"struts.devMode\" value=\"false\" />\n",
    "<constant name=\"struts.custom.i18n.resources\" value=\"myapp\" />\n",
    "<package name=\"default\" extends=\"struts-default\" namespace=\"/\">\n",
    "<action name=\"login\" class=\"com.geekonjavaonjava.struts2.login.LoginAction\">\n",
    "<result name=\"success\">Welcome.jsp</result>\n",
    "<result name=\"error\">Login.jsp</result>\n",
    "</action>\n",
    "</package>\n",
    "</struts>\n",
    "'''"
   ]
  },
  {
   "cell_type": "code",
   "execution_count": null,
   "metadata": {},
   "outputs": [],
   "source": [
    "prompt = f'''help me convert this struts config to springboot config:\n",
    "Struts Config:\n",
    "{strutsxml}\n",
    "Springboot Config:'''"
   ]
  },
  {
   "cell_type": "code",
   "execution_count": null,
   "metadata": {},
   "outputs": [],
   "source": [
    "response_text = model.generate_text(prompt)\n",
    "\n",
    "print(response_text)"
   ]
  }
 ],
 "metadata": {
  "kernelspec": {
   "display_name": "Python 3",
   "language": "python",
   "name": "python3"
  },
  "language_info": {
   "codemirror_mode": {
    "name": "ipython",
    "version": 3
   },
   "file_extension": ".py",
   "mimetype": "text/x-python",
   "name": "python",
   "nbconvert_exporter": "python",
   "pygments_lexer": "ipython3",
   "version": "3.11.4"
  },
  "orig_nbformat": 4
 },
 "nbformat": 4,
 "nbformat_minor": 2
}
