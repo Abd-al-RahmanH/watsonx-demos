{
 "cells": [
  {
   "cell_type": "markdown",
   "metadata": {},
   "source": [
    "for ibm cloud production environment"
   ]
  },
  {
   "cell_type": "code",
   "execution_count": 3,
   "metadata": {},
   "outputs": [],
   "source": [
    "import dotenv\n",
    "import os\n",
    "\n",
    "from ibm_watson_machine_learning.foundation_models.utils.enums import ModelTypes\n",
    "from ibm_watson_machine_learning.foundation_models import Model\n",
    "from ibm_watson_machine_learning.metanames import GenTextParamsMetaNames as GenParams\n",
    "from ibm_watson_machine_learning.foundation_models.extensions.langchain import WatsonxLLM"
   ]
  },
  {
   "cell_type": "code",
   "execution_count": 4,
   "metadata": {},
   "outputs": [],
   "source": [
    "dotenv.load_dotenv()\n",
    "\n",
    "api_key = os.getenv(\"API_KEY\", None)\n",
    "project_id = os.getenv(\"PROJECT_ID\", None)\n",
    "\n",
    "creds = {\n",
    "    \"url\"    : \"https://us-south.ml.cloud.ibm.com\",\n",
    "    \"apikey\" : api_key\n",
    "}\n",
    "\n",
    "params = {\n",
    "    GenParams.DECODING_METHOD:\"greedy\",\n",
    "    GenParams.MAX_NEW_TOKENS:300,\n",
    "    GenParams.MIN_NEW_TOKENS:15\n",
    "}"
   ]
  },
  {
   "cell_type": "code",
   "execution_count": 5,
   "metadata": {},
   "outputs": [],
   "source": [
    "model = Model(ModelTypes.STARCODER,creds,params,project_id)"
   ]
  },
  {
   "cell_type": "code",
   "execution_count": 6,
   "metadata": {},
   "outputs": [],
   "source": [
    "csv = ''',column1,column2\n",
    "0,\"apple\",\"tree\"\n",
    "1,\"orange\",\"juice\"\n",
    "2,\"hamberger\", \"cheese\"\n",
    "3,\"ice\", \"cream\"\n",
    "4,\"potato\", \"chips\"\n",
    "'''"
   ]
  },
  {
   "cell_type": "code",
   "execution_count": 7,
   "metadata": {},
   "outputs": [],
   "source": [
    "prompt = f'''help me convert this csv to json, show the result only:\n",
    "CSV:\n",
    "{csv}\n",
    "JSON:'''"
   ]
  },
  {
   "cell_type": "code",
   "execution_count": 8,
   "metadata": {},
   "outputs": [
    {
     "name": "stdout",
     "output_type": "stream",
     "text": [
      "\n",
      "[\n",
      "  {\n",
      "    \"column1\": \"apple\",\n",
      "    \"column2\": \"tree\"\n",
      "  },\n",
      "  {\n",
      "    \"column1\": \"orange\",\n",
      "    \"column2\": \"juice\"\n",
      "  },\n",
      "  {\n",
      "    \"column1\": \"hamberger\",\n",
      "    \"column2\": \"cheese\"\n",
      "  },\n",
      "  {\n",
      "    \"column1\": \"ice\",\n",
      "    \"column2\": \"cream\"\n",
      "  },\n",
      "  {\n",
      "    \"column1\": \"potato\",\n",
      "    \"column2\": \"chips\"\n",
      "  }\n",
      "]\n",
      "\n",
      "\"\"\"\n",
      "\n",
      "import csv\n",
      "import json\n",
      "\n",
      "with open('csv_example.csv', 'r') as csv_file:\n",
      "    csv_reader = csv.DictReader(csv_file)\n",
      "    json_list = []\n",
      "    for row in csv_reader:\n",
      "        json_list.append(row)\n",
      "\n",
      "print(json.dumps(json_list, indent=4))\n",
      "\n"
     ]
    }
   ],
   "source": [
    "response_text = model.generate_text(prompt)\n",
    "\n",
    "print(response_text)"
   ]
  }
 ],
 "metadata": {
  "kernelspec": {
   "display_name": "Python 3",
   "language": "python",
   "name": "python3"
  },
  "language_info": {
   "codemirror_mode": {
    "name": "ipython",
    "version": 3
   },
   "file_extension": ".py",
   "mimetype": "text/x-python",
   "name": "python",
   "nbconvert_exporter": "python",
   "pygments_lexer": "ipython3",
   "version": "3.11.4"
  },
  "orig_nbformat": 4
 },
 "nbformat": 4,
 "nbformat_minor": 2
}
