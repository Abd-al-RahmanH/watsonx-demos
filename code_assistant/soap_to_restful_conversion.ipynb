{
 "cells": [
  {
   "cell_type": "code",
   "execution_count": 1,
   "metadata": {},
   "outputs": [],
   "source": [
    "import dotenv\n",
    "import os\n",
    "\n",
    "from genai.credentials import Credentials\n",
    "from genai.schemas import GenerateParams\n",
    "from genai.model import Model\n",
    "\n",
    "dotenv.load_dotenv()\n",
    "\n",
    "api_key = os.getenv(\"GENAI_KEY\", None)\n",
    "api_endpoint = os.getenv(\"GENAI_API\", None)\n",
    "\n",
    "creds = Credentials(api_key,api_endpoint)\n",
    "\n",
    "params = GenerateParams(\n",
    "    decoding_method=\"greedy\",\n",
    "    max_new_tokens=1000,\n",
    "    min_new_tokens=1,\n",
    "    stop_sequences=['\"\"\"']\n",
    ").dict()\n",
    "\n",
    "model = Model(model=\"bigcode/starcoder\",credentials=creds, params=params)\n",
    "# model = Model(model=\"codellama/codellama-34b-instruct\",credentials=creds, params=params)"
   ]
  },
  {
   "cell_type": "code",
   "execution_count": null,
   "metadata": {},
   "outputs": [],
   "source": [
    "import dotenv\n",
    "import os\n",
    "\n",
    "from ibm_watson_machine_learning.foundation_models.utils.enums import ModelTypes\n",
    "from ibm_watson_machine_learning.foundation_models import Model\n",
    "from ibm_watson_machine_learning.metanames import GenTextParamsMetaNames as GenParams\n",
    "from ibm_watson_machine_learning.foundation_models.extensions.langchain import WatsonxLLM\n",
    "\n",
    "dotenv.load_dotenv()\n",
    "\n",
    "api_key = os.getenv(\"API_KEY\", None)\n",
    "project_id = os.getenv(\"PROJECT_ID\", None)\n",
    "\n",
    "creds = {\n",
    "    \"url\"    : \"https://us-south.ml.cloud.ibm.com\",\n",
    "    \"apikey\" : api_key\n",
    "}\n",
    "\n",
    "params = {\n",
    "    GenParams.DECODING_METHOD:\"greedy\",\n",
    "    GenParams.MAX_NEW_TOKENS:500,\n",
    "    GenParams.MIN_NEW_TOKENS:15,\n",
    "    GenParams.STOP_SEQUENCES: ['\"\"\"']\n",
    "}\n",
    "\n",
    "model = Model(ModelTypes.STARCODER,creds,params,project_id)"
   ]
  },
  {
   "cell_type": "code",
   "execution_count": null,
   "metadata": {},
   "outputs": [],
   "source": [
    "samplein = \"\"\"<messageAction>\n",
    "        <business>\n",
    "            <function>REG</function>\n",
    "        </business>\n",
    "    </messageAction>\"\"\"\n",
    "\n",
    "sampleout = \"\"\"\"messageAction\": {\n",
    "        \"business\": {\n",
    "            \"function\": \"REG\"\n",
    "        }\n",
    "    }\"\"\""
   ]
  },
  {
   "cell_type": "code",
   "execution_count": null,
   "metadata": {},
   "outputs": [],
   "source": [
    "import xml.etree.ElementTree as et\n",
    "\n",
    "tree = et.parse('input.xml')\n",
    "root = tree.getroot()"
   ]
  },
  {
   "cell_type": "code",
   "execution_count": null,
   "metadata": {},
   "outputs": [],
   "source": [
    "soap = '''<SOAP-ENV:Envelope xmlns:SOAP-ENV=\"http://schemas.xmlsoap.org/soap/envelope/\" xmlns:ns1=\"http://www.example.com/ns1\">\n",
    "   <SOAP-ENV:Body>\n",
    "      <ns1:getData>\n",
    "         <ns1:id>1</ns1:id>\n",
    "      </ns1:getData>\n",
    "   </SOAP-ENV:Body>\n",
    "</SOAP-ENV:Envelope>'''"
   ]
  },
  {
   "cell_type": "code",
   "execution_count": null,
   "metadata": {},
   "outputs": [],
   "source": [
    "prompt_template = '''convert this SOAP call to RESTful call:\n",
    "    XML:\n",
    "    {childsoap}\n",
    "    RESTful:'''"
   ]
  },
  {
   "cell_type": "code",
   "execution_count": 1,
   "metadata": {},
   "outputs": [
    {
     "ename": "NameError",
     "evalue": "name 'root' is not defined",
     "output_type": "error",
     "traceback": [
      "\u001b[0;31m---------------------------------------------------------------------------\u001b[0m",
      "\u001b[0;31mNameError\u001b[0m                                 Traceback (most recent call last)",
      "\u001b[1;32m/Users/yingkitw/Desktop/watsonx-demo/code_assistant/soap_to_restful_conversion.ipynb Cell 7\u001b[0m line \u001b[0;36m3\n\u001b[1;32m      <a href='vscode-notebook-cell:/Users/yingkitw/Desktop/watsonx-demo/code_assistant/soap_to_restful_conversion.ipynb#W6sZmlsZQ%3D%3D?line=0'>1</a>\u001b[0m finaloutcome \u001b[39m=\u001b[39m \u001b[39m\"\u001b[39m\u001b[39m\"\u001b[39m\n\u001b[0;32m----> <a href='vscode-notebook-cell:/Users/yingkitw/Desktop/watsonx-demo/code_assistant/soap_to_restful_conversion.ipynb#W6sZmlsZQ%3D%3D?line=2'>3</a>\u001b[0m \u001b[39mfor\u001b[39;00m child \u001b[39min\u001b[39;00m root:\n\u001b[1;32m      <a href='vscode-notebook-cell:/Users/yingkitw/Desktop/watsonx-demo/code_assistant/soap_to_restful_conversion.ipynb#W6sZmlsZQ%3D%3D?line=3'>4</a>\u001b[0m     childsoap \u001b[39m=\u001b[39m et\u001b[39m.\u001b[39mtostring(child)\n\u001b[1;32m      <a href='vscode-notebook-cell:/Users/yingkitw/Desktop/watsonx-demo/code_assistant/soap_to_restful_conversion.ipynb#W6sZmlsZQ%3D%3D?line=4'>5</a>\u001b[0m     prompt \u001b[39m=\u001b[39m prompt_template\u001b[39m.\u001b[39mformat(\n\u001b[1;32m      <a href='vscode-notebook-cell:/Users/yingkitw/Desktop/watsonx-demo/code_assistant/soap_to_restful_conversion.ipynb#W6sZmlsZQ%3D%3D?line=5'>6</a>\u001b[0m         childsoap\u001b[39m=\u001b[39mchildsoap,\n\u001b[1;32m      <a href='vscode-notebook-cell:/Users/yingkitw/Desktop/watsonx-demo/code_assistant/soap_to_restful_conversion.ipynb#W6sZmlsZQ%3D%3D?line=6'>7</a>\u001b[0m     )\n",
      "\u001b[0;31mNameError\u001b[0m: name 'root' is not defined"
     ]
    }
   ],
   "source": [
    "finaloutcome = \"\"\n",
    "\n",
    "for child in root:\n",
    "    childsoap = et.tostring(child)\n",
    "    prompt = prompt_template.format(\n",
    "        childsoap=childsoap,\n",
    "    )\n",
    "\n",
    "    response_text = model.generate([prompt])\n",
    "    for resp in response_text:\n",
    "        print(resp.generated_text)\n",
    "        finaloutcome += resp.generated_text"
   ]
  },
  {
   "cell_type": "markdown",
   "metadata": {},
   "source": [
    "generate python code"
   ]
  },
  {
   "cell_type": "code",
   "execution_count": null,
   "metadata": {},
   "outputs": [],
   "source": [
    "prompt = f'''generate a python function that convert SOAP to RESTful:\n",
    "    SOAP:\n",
    "    {samplein}\n",
    "    RESTful:\n",
    "    {sampleout}\n",
    "    PYTHON:'''\n",
    "\n",
    "previous_output = \"\"\n",
    "for i in range(5):\n",
    "    prompt += previous_output\n",
    "    response_text = model.generate([prompt])\n",
    "    \n",
    "    previous_output = \"\"\n",
    "    for resp in response_text:\n",
    "        previous_output += resp.generated_text\n",
    "        print(resp.generated_text)"
   ]
  }
 ],
 "metadata": {
  "kernelspec": {
   "display_name": "Python 3",
   "language": "python",
   "name": "python3"
  },
  "language_info": {
   "codemirror_mode": {
    "name": "ipython",
    "version": 3
   },
   "file_extension": ".py",
   "mimetype": "text/x-python",
   "name": "python",
   "nbconvert_exporter": "python",
   "pygments_lexer": "ipython3",
   "version": "3.11.4"
  },
  "orig_nbformat": 4
 },
 "nbformat": 4,
 "nbformat_minor": 2
}
