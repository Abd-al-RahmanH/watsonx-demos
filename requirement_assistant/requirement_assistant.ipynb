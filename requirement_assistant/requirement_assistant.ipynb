{
 "cells": [
  {
   "cell_type": "code",
   "execution_count": 1,
   "metadata": {},
   "outputs": [],
   "source": [
    "#for Preview version in BAM\n",
    "\n",
    "import dotenv\n",
    "import os\n",
    "\n",
    "from genai.credentials import Credentials\n",
    "from genai.schemas import GenerateParams\n",
    "from genai.model import Model\n",
    "\n",
    "dotenv.load_dotenv()\n",
    "\n",
    "api_key = os.getenv(\"GENAI_KEY\", None)\n",
    "api_endpoint = os.getenv(\"GENAI_API\", None)\n",
    "\n",
    "creds = Credentials(api_key,api_endpoint)\n",
    "\n",
    "params = GenerateParams(\n",
    "    decoding_method=\"greedy\",\n",
    "    max_new_tokens=1000,\n",
    "    min_new_tokens=1,\n",
    ")\n",
    "model = Model(model=\"meta-llama/llama-2-70b-chat\",credentials=creds, params=params)\n",
    "# model = Model(model=\"codellama/codellama-34b-instruct\",credentials=creds, params=params)"
   ]
  },
  {
   "cell_type": "code",
   "execution_count": 2,
   "metadata": {},
   "outputs": [],
   "source": [
    "def build_prompt(longinput):\n",
    "    prompt_template = \"\"\"[INST]be a business analyst, summary the requirement provided.\\n\n",
    "        <<SYS>>\n",
    "        requirement:```{requirement}```\n",
    "        <</SYS>>\n",
    "        [/INST]\n",
    "        summary:\"\"\"\n",
    "\n",
    "    i = 0\n",
    "    prompts = []\n",
    "    while i+4000 <= len(longinput):\n",
    "        chunk = [longinput[i:i+4000]]\n",
    "        print(f\"input>>{chunk}\")\n",
    "        prompts += [prompt_template.format(requirement=chunk)]\n",
    "        i+=4000\n",
    "    return prompts"
   ]
  },
  {
   "cell_type": "code",
   "execution_count": 3,
   "metadata": {},
   "outputs": [],
   "source": [
    "from docx import Document\n",
    "\n",
    "def build_summary(input_file_path):\n",
    "\n",
    "    adoc = Document(input_file_path)\n",
    "\n",
    "    summaries = []\n",
    "    prompts = []\n",
    "\n",
    "    longinput = \"\"\n",
    "\n",
    "    for paragraph in adoc.paragraphs:\n",
    "        inputtext = paragraph.text\n",
    "        longinput += inputtext\n",
    "\n",
    "    prompts += build_prompt(longinput)\n",
    "        \n",
    "\n",
    "    for table in adoc.tables:\n",
    "        longinput = \"\"\n",
    "        for row in table.rows:\n",
    "            for cell in row.cells:\n",
    "                inputtext = cell.text\n",
    "                longinput += inputtext\n",
    "\n",
    "        prompts += build_prompt(longinput)\n",
    "\n",
    "    for response in model.generate(prompts):\n",
    "        summaries += [response.generated_text]\n",
    "        print(f\"summary>>{response.generated_text}\")\n",
    "\n",
    "    return summaries\n"
   ]
  },
  {
   "cell_type": "code",
   "execution_count": 4,
   "metadata": {},
   "outputs": [
    {
     "name": "stdout",
     "output_type": "stream",
     "text": [
      "MEC - Developer Requirements and LBGUPS.docx\n",
      "input>>['MEC Discovery and Beta Customer PilotPhase 1 - RequirementsAugust  - December 2021Discovery (Phase 1) Scope / OfferingOur phase 1 will start with offering a BETA offering on TELUS MEC. This beta offering will be tested using early adopter “friendly” Enterprise customers. This initial service will consider the foundational building blocks of our TELUS MEC network, and offer a basic subset of developer features to cater towards use cases which are 10ms or above within the range of our 4 sites. Developers will have partial self service for set up, configuration, lifecycle management, and monitoring of their applications using our TMEC service within Canada only. User / Enterprise Developer FunctionsPartial management from TELUS (creation / provisioning), with partial self service capabilities for user on lifecycle / container management and monitoring / alertingTELUS will manually provision container for customer based on initial consultation of needsTELUS will provision users to container environment GUIUsers will have access to a container environment GUI and will be able to perform the following functions outlined below. The critical functions should consist of core Restful API’s and consist of the following functionality. Follow the ETSI RESTful API standardsLifecycle ManagementApp and Edge Platform enablementRAN service optimisationLocation ServicesIdentity for user equipment (ie sensors)Bandwidth MgtContainer Configuration ManagementChoose deployment type ie VM, Docker, Kubernetes etc Cloudlet availability / discoveryBased on application attributesBased on resource / location requirements,  - this will automatically bring up where user can deploy applicationsQoS MEC resource will defined based on the following parametersLocation of ApplicationLatency rangePriorityGuaranteed / non guaranteedBit rateComputation capacityDistributed matching engineOnce the most appropriate cloudlet is allocated and secured, based on performance the cloudlet should evolve / maintain based on QoS level requirements. This may mean moving cloudlets. Cluster ManagementOption to create clusters Private / PublicDedicated / SharedAuto creation optionApplication registrationNameRegionOrganisationVersionDeployment typePort specsApplication provisionDeploy ApplicationDeploy to our TELUS Image registryOperations / Lifecycle managementUpgrade App versionEditing the cluster configurationDeletion of clusterEditing ApplicationDeletion of applicationAlerts / Monitoring / Performance ManagementLive Monitoring of container / cluster / app performanceView log filesEvent monitoringCreate alertsConsumption reporting on computation / storageDocumentationStatic online documentation with images available on public domainSupport ticket generationTechnology / Network availabilityApplication frameworkMulti tenantTELUS brandedWeb based (SaaS)Roles / Permission frameworkTELUS Private Edge (TMEC) distributed telco infrastructure5g cell sites as well as LTE / 4gDC’s availabilityLeverage a hybrid of telus network infrastructureConfirm MEC sites / edge servers available for launchMetropolitan Canada focus only (tbc the exact specifics)Validation / error messagingApplication support for From 10ms upwardsEnabled using 5G slicing (tbc)Customer ExperienceSales channels: IBM / TS Manual container provisioning by TELUSUse IBM forLimited GUI to developerOnline Developer documentation - public domainAuthentication / Authorisation will not be connected to TELUS client identity managementSupport provided by MEC development team and IBMManual billingPricing: Beta customer to commit to $X for pilot program\\nNot in Scope for Phase 1 (future release features)Rural CanadaSites / Locations outside of named sites aboveSDK’s and client libraries for additional use casesDeveloper local sandboxCustom MEC flavour / QoS optionsOn premise edge for IoT use casesOn device edgeGlobal federated edge networkPublic Edge (leverage GCP)Full self service Developer portal / experience layerNotifications - Alert']\n",
      "summary>>\n",
      "\n",
      "The requirement document outlines the scope and offering of the TELUS MEC Discovery and Beta Customer Pilot Phase 1. The phase 1 will focus on offering a BETA offering on TELUS MEC, which will be tested using early adopter \"friendly\" Enterprise customers. The initial service will consider the foundational building blocks of the TELUS MEC network and offer a basic subset of developer features to cater to use cases that are 10ms or above within the range of the 4 sites.\n",
      "\n",
      "The document highlights the user/enterprise developer functions, including partial management from TELUS, partial self-service capabilities for lifecycle/container management and monitoring/alerting, and the ability to perform various functions such as lifecycle management, app and edge platform enablement, RAN service optimization, location services, identity for user equipment, bandwidth management, container configuration management, and cluster management.\n",
      "\n",
      "The document also outlines the technology/network availability, application framework, multi-tenancy, web-based (SaaS) roles/permission framework, and the focus on metropolitan Canada. Additionally, it mentions the sales channels, customer experience, and pricing for the pilot program.\n",
      "\n",
      "The document also highlights the features that are not in scope for phase 1, such as rural Canada, sites/locations outside of named sites, SDKs and client libraries for additional use cases, developer local sandbox, custom MEC flavor/QoS options, on-premise edge for IoT use cases, global federated edge network, full self-service developer portal/experience layer, and notifications/alerts.\n",
      "TELUS MEC - CaaS LBGUPS v3.docx\n",
      "MEC - CaaS  and LBGUPS High Level Requirements v1.3.docx\n",
      "input>>['MEC CaaS MVPRequirements First DraftUpdated: Oct 5th, 2021Scope / OfferingContainer as a Service offering for Developers and ISV’s. This initial service will consider the foundational building blocks of our TELUS MEC network, and offer a basic subset of developer features to cater towards use cases which are 10ms or above within the range of our 4 sites. Developers will have self service access for container configuration, lifecycle management, and monitoring of their applications using our TMEC service within Canada only.VisionOur vision is to support the developer community with easy access to our extensive network, and connectivity leveraging mobile edge compute and 5G capabilities, by providing tools to allow developers to get up and running fast, and appropriate pricing and business models to easily scale up and down as required. In conjunction with our connectivity offerings, Developers can take further advantage of our adjacent developer services in areas such as Smart Cities, Data Analytics, Health and Agriculture where we have made extensive investments and technology progress. \\nBenefits of OfferingTELUS MEC CaaS will provide developers and ISV’s a self-service offering in container management leveraging our MEC and 5G capabilities. The benefits of such service:Resource efficient. Consume what you need in terms of virtual hardware and computation. Scale up and down easily and quickly. Enhanced security and data protectionPortableCloud / Platform agnostic. Buyer / User PersonaCanada based companiesStart up ISV / software development companyUser who would be using the CaaS service. Could be:Application Developer / Fullstack developerDevOps Engineer / Solutions ArchitectInterested in using MEC for existing and newly developing Smart Cities applications for EnterprisesApplication example: Video Analytics. Potential Use Case: Traffic light preemption at intersection for emergency vehiclesProblem being solved: Consume video data from intersection via video camera sensorsHelp oncoming emergency vehicles with green light traffic lights to allow them to make their way through busy intersections.Developer expectationsCreate, manage, deploy containers for their applications on TMECSpin up the service within one dayFully self serviceCan be purchases on MarketplaceAccess to Developer Portal UIBusiness Model:PAYG option: $1 per hour per node (hardware costs)Developer FunctionsManage and deploy containers for your application on TELUS MECContainer RegistryUpload / and store imagesSecure imagesTag imagesApplication PluginsLeverage IBM Cloud catalog ie Maximo Video Analytics Leverage from the Red Hat MarketplaceLeverage from TELUS MarketplaceDeveloper can build / bring their own application / frameworks / toolkitsContainer ManagementDeployment type is Kubernetes Cloudlet discovery / selection / managementApplication attributesResource / LocationOnce the most appropriate cloudlet is allocated and secured, based on performance the cloudlet should evolve / maintain based on QoS level requirements. This may mean moving cloudlets. QoS resource management (will defined based on the following parameters)Location of ApplicationLatency rangePriorityGuaranteed / non guaranteedBit rateComputation capacityCluster NeedsSelect fromPrivate / PublicDedicated / SharedLifecycle managementAutomate distribution of containers across multiple clusters / nodesAuto grouping of containersContainer scalingUpgrade App versionEditing the container configurationDeletion of containerEditing ApplicationDeletion of applicationIngressRate limiting / throttling of requestsLoad balancingSecurity perimetersDeploymentApplication registrationNameRegionOrganisationVersionPort specsSpecify no. of replica’sMonitoring / AlertsStorage capacity alerts / monitoringLive Monitoring of container / app performanceView log filesEvent monitoringCreate alertsConsumption reporting on computation / storageDeveloper ToolsDeveloper Portal UIUsers will have access to a container environment']\n",
      "summary>>\n",
      "\n",
      "The requirement document outlines the TELUS MEC CaaS MVP offering, a Container as a Service (CaaS) solution for developers and ISVs. The service will provide a self-service platform for container management, lifecycle management, and monitoring, leveraging TELUS's MEC and 5G capabilities. The vision is to support the developer community with easy access to the extensive network and connectivity, enabling them to get up and running fast and scale up and down as needed.\n",
      "\n",
      "The benefits of the offering include resource efficiency, enhanced security and data protection, and portability across cloud and platform. The target user persona is Canada-based companies, start-up ISVs, and software development companies. The service will be available on a pay-as-you-go basis, with a $1 per hour per node hardware cost.\n",
      "\n",
      "The developer functions include managing and deploying containers, uploading and storing images, leveraging IBM Cloud catalog and Red Hat Marketplace, and building/bringing their own applications, frameworks, and toolkits. Container management will include deployment, scaling, and lifecycle management, as well as QoS resource management based on location, latency, priority, bit rate, and computation capacity.\n",
      "\n",
      "The service will also provide monitoring and alerts, consumption reporting, and developer tools through a developer portal UI. The UI will allow users to create, manage, and deploy containers, spin up the service within one day, and access a fully self-service platform.\n",
      "\n",
      "In summary, TELUS MEC CaaS MVP aims to provide a user-friendly, efficient, and scalable container management service for developers and ISVs, leveraging TELUS's MEC and 5G capabilities, and offering a pay-as-you-go pricing model.\n",
      "TELUS MEC - CaaS LBGUPS v1.docx\n"
     ]
    }
   ],
   "source": [
    "from pathlib import Path\n",
    "import os\n",
    "\n",
    "for path in Path('requirement example').rglob('*.docx'):\n",
    "    print(path.name)\n",
    "    inputfile = os.path.join(Path('requirement example'),path.name)\n",
    "    summaries = build_summary(inputfile)\n",
    "\n",
    "# output_file_path = input_file_path.replace(\n",
    "#         '.docx', '-out.docx')\n",
    "\n",
    "# adoc.save(output_file_path)"
   ]
  }
 ],
 "metadata": {
  "kernelspec": {
   "display_name": "Python 3",
   "language": "python",
   "name": "python3"
  },
  "language_info": {
   "codemirror_mode": {
    "name": "ipython",
    "version": 3
   },
   "file_extension": ".py",
   "mimetype": "text/x-python",
   "name": "python",
   "nbconvert_exporter": "python",
   "pygments_lexer": "ipython3",
   "version": "3.11.4"
  }
 },
 "nbformat": 4,
 "nbformat_minor": 2
}
