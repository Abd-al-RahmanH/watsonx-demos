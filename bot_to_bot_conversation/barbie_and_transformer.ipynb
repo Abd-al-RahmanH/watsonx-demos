{
 "cells": [
  {
   "cell_type": "code",
   "execution_count": null,
   "metadata": {},
   "outputs": [],
   "source": [
    "import transformers, langchain, genai, pandas, numpy, streamlit"
   ]
  },
  {
   "cell_type": "code",
   "execution_count": null,
   "metadata": {},
   "outputs": [],
   "source": [
    "import os\n",
    "import time\n",
    "import pathlib"
   ]
  },
  {
   "cell_type": "code",
   "execution_count": null,
   "metadata": {},
   "outputs": [],
   "source": [
    "from dotenv import load_dotenv"
   ]
  },
  {
   "cell_type": "code",
   "execution_count": null,
   "metadata": {},
   "outputs": [],
   "source": [
    "from genai.credentials import Credentials\n",
    "from genai.model import Model\n",
    "from genai.schemas import GenerateParams,ReturnOptions"
   ]
  },
  {
   "cell_type": "code",
   "execution_count": null,
   "metadata": {},
   "outputs": [],
   "source": [
    "load_dotenv()\n",
    "api_key = os.getenv(\"GENAI_KEY\",None)\n",
    "api_endpoint = os.getenv(\"GENAI_API\", None)"
   ]
  },
  {
   "cell_type": "code",
   "execution_count": null,
   "metadata": {},
   "outputs": [],
   "source": [
    "print(\"\\n-----Let's debate----\\n\")"
   ]
  },
  {
   "cell_type": "code",
   "execution_count": null,
   "metadata": {},
   "outputs": [],
   "source": [
    "max_cycles = 20"
   ]
  },
  {
   "cell_type": "code",
   "execution_count": null,
   "metadata": {},
   "outputs": [],
   "source": [
    "pros_params = GenerateParams(\n",
    "    decoding_method=\"sample\",\n",
    "    max_new_tokens=200,\n",
    "    min_new_tokens=1,\n",
    "    stream=False,\n",
    "    temperature=0.7,\n",
    "    top_k=50,\n",
    "    top_p=1,\n",
    ")\n",
    "\n",
    "cons_params = GenerateParams(\n",
    "    decoding_method=\"sample\",\n",
    "    max_new_tokens=200,\n",
    "    min_new_tokens=1,\n",
    "    stream=False,\n",
    "    temperature=0.7,\n",
    "    top_k=50,\n",
    "    top_p=1,\n",
    ")"
   ]
  },
  {
   "cell_type": "code",
   "execution_count": null,
   "metadata": {},
   "outputs": [],
   "source": [
    "creds = Credentials(api_key,api_endpoint)\n",
    "pros_model = Model(\"ibm/mpt-7b-instruct\",\n",
    "                  params=pros_params,credentials=creds,\n",
    ")\n",
    "cons_model = Model(\"google/flan-t5-xxl\",\n",
    "                  params=pros_params,credentials=creds,\n",
    ")"
   ]
  },
  {
   "cell_type": "code",
   "execution_count": null,
   "metadata": {},
   "outputs": [],
   "source": [
    "cons_q = \"Barbie is better than Transformer\""
   ]
  },
  {
   "cell_type": "code",
   "execution_count": null,
   "metadata": {},
   "outputs": [],
   "source": [
    "history = f\"Motion: {cons_q}\\n\"\n",
    "print(history)\n",
    "\n",
    "for x in range(max_cycles):\n",
    "    pros_response = pros_model.generate([f\"\"\"as an analyst, analyis the following conversation, dont repeat the points in the history, generate opinion with supporting argument in 100 words\n",
    "    ###\n",
    "    history: {history}\n",
    "    ###\n",
    "    Pros: \"\"\"])\n",
    "    pros_a = pros_response[0].generated_text\n",
    "    print(f\"Pros: {pros_a}\\n\")\n",
    "    history += f\"Pros: {pros_a}\\n\"\n",
    "\n",
    "\n",
    "    cons_response = cons_model.generate([f\"\"\"as an analyst, analyis the following conversation, dont repeat the points in the history, generate opinion with supporting argument in 100 words\n",
    "    ###\n",
    "    history: {history}\n",
    "    ###\n",
    "    Cons: \"\"\"])\n",
    "    cons_a = cons_response[0].generated_text\n",
    "    print(f\"Cons: {cons_a}\\n\")\n",
    "    history += f\"Cons: {cons_a}\\n\"\n",
    "\n",
    "    # print(history)\n",
    "\n",
    "    cons_q = cons_a\n",
    "    # time.sleep(1)"
   ]
  }
 ],
 "metadata": {
  "kernelspec": {
   "display_name": "Python 3",
   "language": "python",
   "name": "python3"
  },
  "language_info": {
   "codemirror_mode": {
    "name": "ipython",
    "version": 3
   },
   "file_extension": ".py",
   "mimetype": "text/x-python",
   "name": "python",
   "nbconvert_exporter": "python",
   "pygments_lexer": "ipython3",
   "version": "3.11.4"
  },
  "orig_nbformat": 4
 },
 "nbformat": 4,
 "nbformat_minor": 2
}
