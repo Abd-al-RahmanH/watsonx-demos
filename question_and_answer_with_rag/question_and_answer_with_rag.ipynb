{
 "cells": [
  {
   "cell_type": "code",
   "execution_count": null,
   "metadata": {},
   "outputs": [],
   "source": [
    "import dotenv\n",
    "import os\n",
    "\n",
    "from genai.model import GenerateParams\n",
    "from genai import Credentials\n",
    "from genai.extensions.langchain import LangChainInterface\n",
    "\n",
    "from langchain.document_loaders.generic import GenericLoader\n",
    "from langchain.chains.question_answering import load_qa_chain\n",
    "from langchain.docstore.document import Document\n",
    "from langchain.text_splitter import RecursiveCharacterTextSplitter\n",
    "from langchain.vectorstores import Milvus\n",
    "from langchain.embeddings import HuggingFaceInstructEmbeddings\n",
    "from langchain.document_loaders import PyPDFLoader"
   ]
  },
  {
   "cell_type": "code",
   "execution_count": null,
   "metadata": {},
   "outputs": [],
   "source": [
    "chunk_size = 2000\n",
    "chunk_overlap = 100"
   ]
  },
  {
   "cell_type": "code",
   "execution_count": null,
   "metadata": {},
   "outputs": [],
   "source": [
    "dotenv.load_dotenv()\n",
    "\n",
    "api_key = os.getenv(\"GENAI_KEY\",None)\n",
    "api_endpoint = os.getenv(\"GENAI_API\",None)\n",
    "\n",
    "creds = Credentials(api_key,api_endpoint)\n",
    "\n",
    "params = GenerateParams(\n",
    "    decoding_method=\"greedy\",\n",
    "    max_new_tokens=300,\n",
    "    min_new_tokens=15,\n",
    "    repetition_penalty=2,\n",
    ")\n",
    "\n",
    "text_splitter = RecursiveCharacterTextSplitter(chunk_size= chunk_size, chunk_overlap=chunk_overlap)"
   ]
  },
  {
   "cell_type": "code",
   "execution_count": null,
   "metadata": {},
   "outputs": [],
   "source": [
    "llm = LangChainInterface(model=\"meta-llama/llama-2-13b\",credentials=creds,params=params)"
   ]
  },
  {
   "cell_type": "code",
   "execution_count": null,
   "metadata": {},
   "outputs": [],
   "source": [
    "embeddings = HuggingFaceInstructEmbeddings(\n",
    "            model_name=\"hkunlp/instructor-large\"\n",
    "        )"
   ]
  },
  {
   "cell_type": "markdown",
   "metadata": {},
   "source": [
    "digest the pdf to vectordb"
   ]
  },
  {
   "cell_type": "code",
   "execution_count": null,
   "metadata": {},
   "outputs": [],
   "source": [
    "!pwd"
   ]
  },
  {
   "cell_type": "code",
   "execution_count": null,
   "metadata": {},
   "outputs": [],
   "source": [
    "from pathlib import Path\n",
    "\n",
    "docs = []\n",
    "products = ['apple','orange','banana']\n",
    "\n",
    "for product in products:\n",
    "    for path in Path('../../menu/'+product).rglob('*.pdf'):\n",
    "        loader = PyPDFLoader('../../menu/'+product+'/'+ path.name)\n",
    "        data = loader.load()\n",
    "        for doc in data:\n",
    "            doc.metadata['product'] = product\n",
    "        docs += text_splitter.split_documents(data)\n",
    "\n",
    "        # for doc in docs:\n",
    "        #     print(doc)\n",
    "\n",
    "dotenv.load_dotenv()\n",
    "COLLECTION_NAME = os.getenv(\"COLLECTION_NAME\", None)\n",
    "DIMENSION = os.getenv(\"DIMENSION\", None)\n",
    "COUNT = os.getenv(\"COUNT\", None)\n",
    "MAX = os.getenv(\"MAX\",None)\n",
    "MILVUS_HOST = os.getenv(\"MILVUS_HOST\", None)\n",
    "MILVUS_PORT = os.getenv(\"MILVUS_PORT\", None)\n",
    "db = Milvus.from_documents(docs,embeddings,\n",
    "                        collection_name = COLLECTION_NAME,\n",
    "                        connection_args={\"host\": MILVUS_HOST, \"port\": MILVUS_PORT}\n",
    "                        )"
   ]
  },
  {
   "cell_type": "markdown",
   "metadata": {},
   "source": [
    "query the vector db"
   ]
  },
  {
   "cell_type": "code",
   "execution_count": null,
   "metadata": {},
   "outputs": [],
   "source": [
    "dotenv.load_dotenv()\n",
    "COLLECTION_NAME = os.getenv(\"COLLECTION_NAME\", None)\n",
    "DIMENSION = os.getenv(\"DIMENSION\", None)\n",
    "COUNT = os.getenv(\"COUNT\", None)\n",
    "MAX = os.getenv(\"MAX\",None)\n",
    "MILVUS_HOST = os.getenv(\"MILVUS_HOST\", None)\n",
    "MILVUS_PORT = os.getenv(\"MILVUS_PORT\", None)\n",
    "db = Milvus(\n",
    "    embedding_function = embeddings,\n",
    "    collection_name = COLLECTION_NAME,\n",
    "    connection_args={\"host\": MILVUS_HOST, \"port\": MILVUS_PORT},\n",
    "    drop_old = False,\n",
    ")"
   ]
  },
  {
   "cell_type": "code",
   "execution_count": null,
   "metadata": {},
   "outputs": [],
   "source": [
    "file = open(\"sample.txt\", \"r\")\n",
    "questions = file.readlines()\n",
    "\n",
    "print(questions)"
   ]
  },
  {
   "cell_type": "code",
   "execution_count": null,
   "metadata": {},
   "outputs": [],
   "source": [
    "chain = load_qa_chain(llm, chain_type=\"stuff\")\n",
    "\n",
    "start = time.time()\n",
    "\n",
    "product = \"apple\"\n",
    "\n",
    "for query in questions:\n",
    "    print(\"Q:\"+query)\n",
    "    resultdocs = db.similarity_search(query, k=3, filter={'product': product})\n",
    "    # for res in resultdocs:\n",
    "    #     print(res)\n",
    "    answer = chain.run(input_documents=resultdocs, question=query)\n",
    "    print(\"A:\"+answer)\n",
    "    end = time.time()\n",
    "\n",
    "print(\"Duration: \", end - start, \"Count: \", len(questions))"
   ]
  }
 ],
 "metadata": {
  "kernelspec": {
   "display_name": "Python 3",
   "language": "python",
   "name": "python3"
  },
  "language_info": {
   "codemirror_mode": {
    "name": "ipython",
    "version": 3
   },
   "file_extension": ".py",
   "mimetype": "text/x-python",
   "name": "python",
   "nbconvert_exporter": "python",
   "pygments_lexer": "ipython3",
   "version": "3.11.4"
  },
  "orig_nbformat": 4
 },
 "nbformat": 4,
 "nbformat_minor": 2
}
